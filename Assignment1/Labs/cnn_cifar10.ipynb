{
  "cells": [
    {
      "cell_type": "code",
      "execution_count": null,
      "id": "b570e5a4",
      "metadata": {
        "id": "b570e5a4"
      },
      "outputs": [],
      "source": [
        "import keras\n",
        "from tensorflow.keras import optimizers\n",
        "from keras.models import Sequential\n",
        "from keras.utils import np_utils\n",
        "from keras.preprocessing.image import ImageDataGenerator\n",
        "from keras.layers import Dense, Activation, Flatten, Dropout, BatchNormalization, GlobalAveragePooling2D\n",
        "from keras.layers import Conv2D, MaxPooling2D\n",
        "from keras.datasets import cifar10\n",
        "from keras import regularizers\n",
        "from keras.callbacks import LearningRateScheduler\n",
        "import numpy as np\n",
        "import matplotlib.pyplot as plt\n",
        "import os\n",
        "\n",
        "\n",
        "batch_size = 128\n",
        "n_epochs = 12\n",
        "per_sample_normalization = True\n",
        "data_augmentation = False\n",
        "globalAVGPooling = False\n",
        "drop_out = False\n",
        "gt_noise = 0.\n",
        "data_unbalancing = True\n",
        "capacity = ['low', 'high'][0]\n",
        "last_layer_activation = ['softmax', 'sigmoid', None][0]\n",
        "loss = ['categorical_crossentropy', 'mean_squared_error', 'mean_absolute_error'][0]\n",
        "txt = 'rnd'\n",
        "vis_data = False"
      ]
    },
    {
      "cell_type": "code",
      "execution_count": null,
      "id": "b43838cc",
      "metadata": {
        "id": "b43838cc"
      },
      "outputs": [],
      "source": [
        "def lr_schedule(epoch):\n",
        "    lrate = 0.001\n",
        "    if epoch > 75:\n",
        "        lrate = 0.0005\n",
        "    if epoch > 100:\n",
        "        lrate = 0.0003\n",
        "    return lrate"
      ]
    },
    {
      "cell_type": "code",
      "execution_count": null,
      "id": "eb340b5c",
      "metadata": {
        "id": "eb340b5c"
      },
      "outputs": [],
      "source": [
        "# Load data\n",
        "# To avoid filling up the RAM with repeated data, we load the data once\n",
        "if not os.path.isfile('cifar10.npy'):\n",
        "  (x_train, y_train), (x_test, y_test) = cifar10.load_data()\n",
        "  x_train = x_train.astype('float32')\n",
        "  n, h, w, c = x_test.shape\n",
        "  x_test = x_test.astype('float32')# + (np.random.rand(n, h, w, c)-0.5)*0.02\n",
        " \n",
        "  num_classes = 10\n",
        "  y_train = y_train_reserve = np_utils.to_categorical(y_train, num_classes)\n",
        "  y_test = np_utils.to_categorical(y_test, num_classes)\n",
        "\n",
        "  with open('cifar10.npy', 'wb') as f:\n",
        "    np.save(f, x_train)\n",
        "    np.save(f, y_train)\n",
        "    np.save(f, x_test)\n",
        "    np.save(f, y_test)\n",
        "\n",
        "  print(x_train.shape)\n",
        "  if vis_data:\n",
        "    rows, columns = 5, 5\n",
        "    # define figure\n",
        "    fig=plt.figure(figsize=(10, 10))\n",
        "    # visualize these random images\n",
        "    for i in range(1, rows*columns +1):\n",
        "      fig.add_subplot(rows, columns, i)\n",
        "      plt.imshow(x_train[np.random.randint(0, x_train.shape[0])].astype('uint8'))\n",
        "      plt.xticks([])\n",
        "      plt.yticks([])\n",
        "    plt.show()\n",
        "\n",
        "# We corrupt some labels to analyze the capacity of the network\n",
        "if gt_noise > 0:\n",
        "  ridx = np.random.randint(0, y_train.shape[0], int(y_train.shape[0]*gt_noise))\n",
        "  rlabel = np.random.randint(0, num_classes, ridx.shape[0])\n",
        "  y_train = y_train_reserve # we reset the y_train to avoid accumulating the noise from previous iterations\n",
        "  y_train[ridx] = np_utils.to_categorical(rlabel, num_classes)\n",
        "else:\n",
        "  y_train = y_train_reserve"
      ]
    },
    {
      "cell_type": "code",
      "execution_count": null,
      "id": "a958ce4b",
      "metadata": {
        "id": "a958ce4b"
      },
      "outputs": [],
      "source": [
        "# Build the network\n",
        "weight_decay = 1e-4\n",
        "model = Sequential()\n",
        "model.add(Conv2D(32, (3,3), padding='same', kernel_regularizer=regularizers.l2(weight_decay), input_shape=x_train.shape[1:]))\n",
        "model.add(Activation('relu'))\n",
        "model.add(BatchNormalization())\n",
        "if capacity is 'high':\n",
        "  model.add(Conv2D(32, (3,3), padding='same', kernel_regularizer=regularizers.l2(weight_decay)))\n",
        "  model.add(Activation('relu'))\n",
        "  model.add(BatchNormalization())\n",
        "model.add(MaxPooling2D(pool_size=(2,2)))\n",
        "if drop_out:\n",
        "  model.add(Dropout(0.2))\n",
        " \n",
        "model.add(Conv2D(64, (3,3), padding='same', kernel_regularizer=regularizers.l2(weight_decay)))\n",
        "model.add(Activation('relu'))\n",
        "model.add(BatchNormalization())\n",
        "if capacity is 'high':\n",
        "  model.add(Conv2D(64, (3,3), padding='same', kernel_regularizer=regularizers.l2(weight_decay)))\n",
        "  model.add(Activation('relu'))\n",
        "  model.add(BatchNormalization())\n",
        "model.add(MaxPooling2D(pool_size=(2,2)))\n",
        "if drop_out:\n",
        "  model.add(Dropout(0.3))\n",
        " \n",
        "model.add(Conv2D(128, (3,3), padding='same', kernel_regularizer=regularizers.l2(weight_decay)))\n",
        "model.add(Activation('relu'))\n",
        "model.add(BatchNormalization())\n",
        "if capacity is 'high':\n",
        "  model.add(Conv2D(128, (3,3), padding='same', kernel_regularizer=regularizers.l2(weight_decay)))\n",
        "  model.add(Activation('relu'))\n",
        "  model.add(BatchNormalization())\n",
        "model.add(MaxPooling2D(pool_size=(2,2)))\n",
        "if drop_out:\n",
        "  model.add(Dropout(0.4))\n",
        "\n",
        "if globalAVGPooling:\n",
        "  model.add(GlobalAveragePooling2D())\n",
        "else:\n",
        "  model.add(Flatten())\n",
        "\n",
        "model.add(Dense(num_classes, activation=last_layer_activation))\n",
        " \n",
        "model.summary()"
      ]
    },
    {
      "cell_type": "code",
      "execution_count": null,
      "id": "d8cc09de",
      "metadata": {
        "colab": {
          "base_uri": "https://localhost:8080/"
        },
        "id": "d8cc09de",
        "outputId": "00ae546f-073a-4857-8338-b2645a38796e"
      },
      "outputs": [
        {
          "output_type": "stream",
          "name": "stderr",
          "text": [
            "/usr/local/lib/python3.7/dist-packages/ipykernel_launcher.py:23: UserWarning: `Model.fit_generator` is deprecated and will be removed in a future version. Please use `Model.fit`, which supports generators.\n",
            "/usr/local/lib/python3.7/dist-packages/keras_preprocessing/image/image_data_generator.py:720: UserWarning: This ImageDataGenerator specifies `featurewise_center`, but it hasn't been fit on any training data. Fit it first by calling `.fit(numpy_data)`.\n",
            "  warnings.warn('This ImageDataGenerator specifies '\n"
          ]
        },
        {
          "output_type": "stream",
          "name": "stdout",
          "text": [
            "Epoch 1/12\n",
            "390/390 [==============================] - 19s 42ms/step - loss: 2.3156 - accuracy: 0.3203 - val_loss: 2.2104 - val_accuracy: 0.2547 - lr: 0.0010\n",
            "Epoch 2/12\n",
            "390/390 [==============================] - 16s 41ms/step - loss: 2.0230 - accuracy: 0.4267 - val_loss: 1.4261 - val_accuracy: 0.5577 - lr: 0.0010\n",
            "Epoch 3/12\n",
            "390/390 [==============================] - 16s 40ms/step - loss: 1.9114 - accuracy: 0.4744 - val_loss: 1.3100 - val_accuracy: 0.6404 - lr: 0.0010\n",
            "Epoch 4/12\n",
            "390/390 [==============================] - 16s 41ms/step - loss: 1.8348 - accuracy: 0.5073 - val_loss: 1.3472 - val_accuracy: 0.5937 - lr: 0.0010\n",
            "Epoch 5/12\n",
            "390/390 [==============================] - 16s 41ms/step - loss: 1.7498 - accuracy: 0.5284 - val_loss: 1.2428 - val_accuracy: 0.6660 - lr: 0.0010\n",
            "Epoch 6/12\n",
            "390/390 [==============================] - 16s 42ms/step - loss: 1.6561 - accuracy: 0.5510 - val_loss: 1.2550 - val_accuracy: 0.6319 - lr: 0.0010\n",
            "Epoch 7/12\n",
            "390/390 [==============================] - 16s 41ms/step - loss: 1.5483 - accuracy: 0.5747 - val_loss: 1.2165 - val_accuracy: 0.6695 - lr: 0.0010\n",
            "Epoch 8/12\n",
            "390/390 [==============================] - 16s 41ms/step - loss: 1.4261 - accuracy: 0.5961 - val_loss: 1.2917 - val_accuracy: 0.6127 - lr: 0.0010\n",
            "Epoch 9/12\n",
            "390/390 [==============================] - 16s 41ms/step - loss: 1.2946 - accuracy: 0.6279 - val_loss: 1.2920 - val_accuracy: 0.6164 - lr: 0.0010\n",
            "Epoch 10/12\n",
            "390/390 [==============================] - 16s 41ms/step - loss: 1.1613 - accuracy: 0.6668 - val_loss: 1.4960 - val_accuracy: 0.5561 - lr: 0.0010\n",
            "Epoch 11/12\n",
            "390/390 [==============================] - 16s 41ms/step - loss: 1.0282 - accuracy: 0.7030 - val_loss: 1.5126 - val_accuracy: 0.5640 - lr: 0.0010\n",
            "Epoch 12/12\n",
            "390/390 [==============================] - 16s 41ms/step - loss: 0.8987 - accuracy: 0.7425 - val_loss: 1.6298 - val_accuracy: 0.5620 - lr: 0.0010\n"
          ]
        }
      ],
      "source": [
        "#training\n",
        "\n",
        "#data augmentation\n",
        "val_data_gen_args = dict(rescale = None if per_sample_normalization else 1./255,\n",
        "                     samplewise_center=True if per_sample_normalization else False,\n",
        "                     samplewise_std_normalization=True if per_sample_normalization else False)\n",
        "train_data_gen_args = dict(rescale = None if per_sample_normalization else 1./255,\n",
        "                     samplewise_center=True if per_sample_normalization else False,\n",
        "                     samplewise_std_normalization=True if per_sample_normalization else False,\n",
        "                     rotation_range=20,\n",
        "                     width_shift_range=0.1,\n",
        "                     height_shift_range=0.1,\n",
        "                     zoom_range=0.2) if data_augmentation else val_data_gen_args\n",
        "training_datagen = ImageDataGenerator(train_data_gen_args)\n",
        "training_set = training_datagen.flow(x_train, y_train, batch_size=batch_size)\n",
        "val_datagen = ImageDataGenerator(val_data_gen_args)\n",
        "val_set = val_datagen.flow(x_test, y_test, batch_size=batch_size)\n",
        " \n",
        "opt_rms = optimizers.RMSprop(learning_rate=0.001, decay=1e-6)\n",
        "model.compile(loss=loss, optimizer=opt_rms, metrics=['accuracy'])\n",
        "mdl_fit = model.fit_generator(training_set,\n",
        "                    steps_per_epoch=x_train.shape[0] // batch_size, epochs=n_epochs, verbose=1,\n",
        "                    validation_data=val_set, callbacks=[LearningRateScheduler(lr_schedule)])"
      ]
    },
    {
      "cell_type": "code",
      "execution_count": null,
      "id": "08e2e9f5",
      "metadata": {
        "colab": {
          "base_uri": "https://localhost:8080/",
          "height": 530
        },
        "id": "08e2e9f5",
        "outputId": "de6a3abe-b2d8-4849-f933-d667a3479752"
      },
      "outputs": [
        {
          "output_type": "display_data",
          "data": {
            "image/png": "[encoded data removed]",
            "text/plain": [
              "<Figure size 432x288 with 1 Axes>"
            ]
          },
          "metadata": {
            "needs_background": "light"
          }
        },
        {
          "output_type": "display_data",
          "data": {
            "image/png": "[encoded data removed]",
            "text/plain": [
              "<Figure size 432x288 with 1 Axes>"
            ]
          },
          "metadata": {
            "needs_background": "light"
          }
        },
        {
          "output_type": "display_data",
          "data": {
            "text/plain": [
              "<Figure size 432x288 with 0 Axes>"
            ]
          },
          "metadata": {}
        }
      ],
      "source": [
        "# plot the loss\n",
        "plt.plot(mdl_fit.history['loss'], label='train loss')\n",
        "plt.plot(mdl_fit.history['val_loss'], label='val loss')\n",
        "plt.legend()\n",
        "plt.show()\n",
        "plt.savefig(txt+'_LossVal_loss')\n",
        "\n",
        "# plot the accuracy\n",
        "plt.plot(mdl_fit.history['accuracy'], label='train acc')\n",
        "plt.plot(mdl_fit.history['val_accuracy'], label='val acc')\n",
        "plt.legend()\n",
        "plt.show()\n",
        "plt.savefig(txt+'_AccVal_acc')\n",
        "\n",
        "#save model to disk\n",
        "model.save_weights('model.h5') "
      ]
    }
  ],
  "metadata": {
    "kernelspec": {
      "display_name": "Python 3",
      "language": "python",
      "name": "python3"
    },
    "language_info": {
      "codemirror_mode": {
        "name": "ipython",
        "version": 3
      },
      "file_extension": ".py",
      "mimetype": "text/x-python",
      "name": "python",
      "nbconvert_exporter": "python",
      "pygments_lexer": "ipython3",
      "version": "3.8.8"
    },
    "colab": {
      "name": "CNN_Cifar10.ipynb",
      "provenance": []
    }
  },
  "nbformat": 4,
  "nbformat_minor": 5
}