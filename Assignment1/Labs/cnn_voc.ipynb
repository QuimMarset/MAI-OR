{
  "cells": [
    {
      "cell_type": "code",
      "execution_count": 1,
      "metadata": {
        "id": "f90yohkIUjSG"
      },
      "outputs": [],
      "source": [
        "from glob import glob\n",
        "import cv2\n",
        "import numpy as np\n",
        "import xml.etree.ElementTree as ET\n",
        "import keras\n",
        "from keras import backend as K\n",
        "from tensorflow.keras import optimizers\n",
        "from keras.models import Sequential\n",
        "from keras.utils import np_utils\n",
        "from keras.preprocessing.image import ImageDataGenerator\n",
        "from keras.layers import Dense, Activation, Flatten, Dropout, BatchNormalization, GlobalAveragePooling2D\n",
        "from keras.layers import Conv2D, MaxPooling2D\n",
        "from keras import regularizers\n",
        "from keras.callbacks import LearningRateScheduler\n",
        "import matplotlib.pyplot as plt\n",
        "import os\n",
        "\n",
        "\n",
        "batch_size = 128\n",
        "n_epochs = 12\n",
        "per_sample_normalization = True\n",
        "data_augmentation = True\n",
        "globalAVGPooling = False\n",
        "drop_out = True\n",
        "capacity = ['low', 'high'][1]\n",
        "last_layer_activation = ['softmax', 'sigmoid', None][1]\n",
        "loss = ['categorical_crossentropy', 'binary_crossentropy', 'mean_squared_error', 'mean_absolute_error'][1]\n",
        "txt = 'rnd'\n",
        "img_size = 224\n",
        "num_classes = 20\n",
        "img_with_padding = False\n",
        "voc_classes = {'aeroplane': 0, 1, 2, 3, 4, 5, 'car': 6, 7, 8, 'cow': 9, 'diningtable': 10\n",
        "               , 'dog': 11, 'horse': 12, 'motorbike': 13, 'person': 14, 'pottedplant': 15, 'sheep': 16, 'sofa': 17, 'train': 18, 'tvmonitor': 19}\n",
        "voc_class_colors = {'aeroplane': [128, 0, 0], 'bicycle': [0, 128, 0], 'bird': [128, 128, 0], 'boat': [0, 0, 128], 'bottle': [128, 0, 128]\n",
        "                    , 'bus': [0, 128, 128], 'car': [128, 128, 128], 'cat': [64, 0, 0], 'chair': [192, 0, 0], 'cow': [64, 128, 0]\n",
        "                    , 'diningtable': [192, 128, 0], 'dog': [64, 0, 128], 'horse': [192, 0, 128], 'motorbike': [64, 128, 128], 'person': [192, 128, 128]\n",
        "                    , 'pottedplant': [0, 64, 0], 'sheep': [128, 64, 0], 'sofa': [0, 192, 0], 'train': [128, 192, 0], 'tvmonitor': [0, 64, 128]\n",
        "                    , 'object_class_border': [224, 224, 192]}\n"
      ]
    },
    {
      "cell_type": "code",
      "execution_count": 2,
      "metadata": {
        "colab": {
          "base_uri": "https://localhost:8080/"
        },
        "id": "FAM67ZpCp7Pd",
        "outputId": "e2b336c1-7d98-48b4-fadc-52dc0f2ba23e"
      },
      "outputs": [
        {
          "name": "stdout",
          "output_type": "stream",
          "text": [
            "--2022-03-09 22:04:30--  http://host.robots.ox.ac.uk/pascal/VOC/voc2007/VOCtrainval_06-Nov-2007.tar\n",
            "Resolving host.robots.ox.ac.uk (host.robots.ox.ac.uk)... 129.67.94.152\n",
            "Connecting to host.robots.ox.ac.uk (host.robots.ox.ac.uk)|129.67.94.152|:80... connected.\n",
            "HTTP request sent, awaiting response... 200 OK\n",
            "Length: 460032000 (439M) [application/x-tar]\n",
            "Saving to: ‘VOCtrainval_06-Nov-2007.tar’\n",
            "\n",
            "VOCtrainval_06-Nov- 100%[===================>] 438.72M  31.1MB/s    in 15s     \n",
            "\n",
            "2022-03-09 22:04:45 (29.4 MB/s) - ‘VOCtrainval_06-Nov-2007.tar’ saved [460032000/460032000]\n",
            "\n",
            "VOCtrainval_06-Nov-2007.tar has been uncompressed successfully.\n"
          ]
        }
      ],
      "source": [
        "# Download and untar voc dataset\n",
        "!wget http://host.robots.ox.ac.uk/pascal/VOC/voc2007/VOCtrainval_06-Nov-2007.tar\n",
        "!tar xf VOCtrainval_06-Nov-2007.tar\n",
        "print('VOCtrainval_06-Nov-2007.tar has been uncompressed successfully.')"
      ]
    },
    {
      "cell_type": "code",
      "execution_count": 4,
      "metadata": {},
      "outputs": [
        {
          "data": {
            "text/plain": [
              "['cnn_cifar10.ipynb', 'cnn_voc.ipynb', 'cnn_voc2.ipynb']"
            ]
          },
          "execution_count": 4,
          "metadata": {},
          "output_type": "execute_result"
        }
      ],
      "source": [
        "os.listdir()"
      ]
    },
    {
      "cell_type": "code",
      "execution_count": 5,
      "metadata": {
        "id": "hiLBdfrQsHst"
      },
      "outputs": [
        {
          "name": "stdout",
          "output_type": "stream",
          "text": [
            "4110\n",
            "901\n"
          ]
        }
      ],
      "source": [
        "# Read and format data\n",
        "def read_content(xml_file: str):\n",
        "    tree = ET.parse(xml_file)\n",
        "    root = tree.getroot()\n",
        "\n",
        "    list_with_all_boxes = []\n",
        "    list_with_all_objects = []\n",
        "    for boxes in root.iter('object'):\n",
        "\n",
        "        classname = boxes.find(\"name\").text\n",
        "        list_with_all_objects.append(voc_classes[classname])\n",
        "\n",
        "        ymin, xmin, ymax, xmax = None, None, None, None\n",
        "\n",
        "        ymin = int(boxes.find(\"bndbox/ymin\").text)\n",
        "        xmin = int(boxes.find(\"bndbox/xmin\").text)\n",
        "        ymax = int(boxes.find(\"bndbox/ymax\").text)\n",
        "        xmax = int(boxes.find(\"bndbox/xmax\").text)\n",
        "\n",
        "        list_with_single_boxes = [xmin, ymin, xmax, ymax]\n",
        "        list_with_all_boxes.append(list_with_single_boxes)\n",
        "\n",
        "    return list_with_all_objects, list_with_all_boxes\n",
        "\n",
        "\n",
        "files = glob('../VOCtrainval_06-Nov-2007/VOCdevkit/VOC2007/JPEGImages/*.jpg')\n",
        "\n",
        "n_samples = len(files)\n",
        "files = files[:n_samples]\n",
        "x_train, y_train, x_test, y_test = [], [], [], []\n",
        "\n",
        "np.random.seed(0)\n",
        "ridx = np.random.randint(0, n_samples, int(n_samples*0.2))\n",
        "train_test_split = np.zeros(n_samples)\n",
        "train_test_split[ridx] = 1\n",
        "for f, i in zip(files, range(n_samples)):\n",
        "    img = cv2.imread(f)\n",
        "    img = cv2.cvtColor(img, cv2.COLOR_BGR2RGB).astype(np.float32)\n",
        "    if img_with_padding:\n",
        "        catdim = 0\n",
        "        if img.shape[0] > img.shape[1]:\n",
        "            cataxis = 1\n",
        "            catdim = int((img.shape[0] - img.shape[1]) / 2)\n",
        "            catarray = np.zeros((img.shape[0], catdim, img.shape[2]), img.dtype)\n",
        "            img = np.concatenate((catarray, img, catarray), axis=cataxis)\n",
        "        elif img.shape[0] < img.shape[1]:\n",
        "            cataxis = 0\n",
        "            catdim = int((img.shape[1] - img.shape[0]) / 2)\n",
        "            catarray = np.zeros((catdim, img.shape[1], img.shape[2]), img.dtype)\n",
        "            img = np.concatenate((catarray, img, catarray), axis=cataxis)\n",
        "    img = cv2.resize(img, (img_size, img_size))\n",
        "    \n",
        "    if train_test_split[i]:\n",
        "        x_test.append(img)\n",
        "    else:\n",
        "        x_train.append(img)\n",
        "    \n",
        "    classes = np.zeros(num_classes)\n",
        "    root, name = f.split('JPEGImages', 1)\n",
        "    cnames, _ = read_content(root+'Annotations'+name[:-3]+'xml')\n",
        "    for c in cnames:\n",
        "        classes[c] = 1.0\n",
        "            \n",
        "    if train_test_split[i]:\n",
        "        y_test.append(classes)\n",
        "    else:\n",
        "        y_train.append(classes)\n",
        "    \n",
        "x_train = np.array(x_train)\n",
        "y_train = np.array(y_train)\n",
        "x_test = np.array(x_test)\n",
        "y_test = np.array(y_test)\n",
        "\n",
        "print(x_train.shape[0])\n",
        "print(x_test.shape[0])"
      ]
    },
    {
      "cell_type": "code",
      "execution_count": 14,
      "metadata": {},
      "outputs": [
        {
          "name": "stdout",
          "output_type": "stream",
          "text": [
            "[8388608, 32768, 8421376, 128, 8388736, 32896, 8421504, 4194304, 12582912, 4227072, 12615680, 4194432, 12583040, 4227200, 12615808, 16384, 8404992, 49152, 8437760, 16512, 14737600]\n"
          ]
        }
      ],
      "source": [
        "rgb_weights = [0.2989, 0.5870, 0.1140]\n",
        "\n",
        "def convert_to_gray(color):\n",
        "    return round(color[0]*rgb_weights[0] + color[1]*rgb_weights[1] + color[2]*rgb_weights[2])\n",
        "\n",
        "def color2idx(c):\n",
        "  return c[0]*256**2 + c[1]*256 + c[2]\n",
        "\n",
        "colors = [[128, 0, 0], [0, 128, 0], [128, 128, 0],[0, 0, 128], [128, 0, 128], [0, 128, 128], [128, 128, 128], [64, 0, 0], \n",
        "    [192, 0, 0], [64, 128, 0], [192, 128, 0], [64, 0, 128], \n",
        "    [192, 0, 128], [64, 128, 128], [192, 128, 128],\n",
        "    [0, 64, 0], [128, 64, 0], [0, 192, 0], \n",
        "    [128, 192, 0], [0, 64, 128], [224, 224, 192]]\n",
        "\n",
        "\n",
        "grays = [color2idx(color) for color in colors]\n",
        "\n",
        "print(grays)"
      ]
    },
    {
      "cell_type": "code",
      "execution_count": 10,
      "metadata": {},
      "outputs": [
        {
          "name": "stdout",
          "output_type": "stream",
          "text": [
            "[  0  38 147 220]\n"
          ]
        }
      ],
      "source": [
        "path = '../VOCtrainval_06-Nov-2007/VOCdevkit/VOC2007/SegmentationClass/' + '000032' + '.png'\n",
        "import cv2\n",
        "im_class = cv2.imread(path)\n",
        "im_class = cv2.cvtColor(im_class, cv2.COLOR_BGR2GRAY)\n",
        "\n",
        "print(np.unique(im_class))\n"
      ]
    },
    {
      "cell_type": "code",
      "execution_count": 7,
      "metadata": {},
      "outputs": [
        {
          "name": "stdout",
          "output_type": "stream",
          "text": [
            "(21, 3)\n"
          ]
        },
        {
          "ename": "ValueError",
          "evalue": "axes don't match array",
          "output_type": "error",
          "traceback": [
            "\u001b[1;31m---------------------------------------------------------------------------\u001b[0m",
            "\u001b[1;31mValueError\u001b[0m                                Traceback (most recent call last)",
            "\u001b[1;32m~\\AppData\\Local\\Temp/ipykernel_6356/2991925114.py\u001b[0m in \u001b[0;36m<module>\u001b[1;34m\u001b[0m\n\u001b[0;32m      1\u001b[0m \u001b[0mcolors\u001b[0m \u001b[1;33m=\u001b[0m \u001b[0mnp\u001b[0m\u001b[1;33m.\u001b[0m\u001b[0marray\u001b[0m\u001b[1;33m(\u001b[0m\u001b[0mcolors\u001b[0m\u001b[1;33m)\u001b[0m\u001b[1;33m\u001b[0m\u001b[1;33m\u001b[0m\u001b[0m\n\u001b[0;32m      2\u001b[0m \u001b[0mprint\u001b[0m\u001b[1;33m(\u001b[0m\u001b[0mcolors\u001b[0m\u001b[1;33m.\u001b[0m\u001b[0mshape\u001b[0m\u001b[1;33m)\u001b[0m\u001b[1;33m\u001b[0m\u001b[1;33m\u001b[0m\u001b[0m\n\u001b[1;32m----> 3\u001b[1;33m \u001b[0mcolors_bgr\u001b[0m \u001b[1;33m=\u001b[0m \u001b[0mcolors\u001b[0m\u001b[1;33m.\u001b[0m\u001b[0mtranspose\u001b[0m\u001b[1;33m(\u001b[0m\u001b[1;33m(\u001b[0m\u001b[1;36m1\u001b[0m\u001b[1;33m,\u001b[0m \u001b[1;36m0\u001b[0m\u001b[1;33m,\u001b[0m \u001b[1;36m2\u001b[0m\u001b[1;33m)\u001b[0m\u001b[1;33m)\u001b[0m\u001b[1;33m\u001b[0m\u001b[1;33m\u001b[0m\u001b[0m\n\u001b[0m",
            "\u001b[1;31mValueError\u001b[0m: axes don't match array"
          ]
        }
      ],
      "source": [
        "colors = np.array(colors)\n",
        "print(colors.shape)\n",
        "colors_bgr = colors.transpose((1, 0, 2))"
      ]
    },
    {
      "cell_type": "code",
      "execution_count": 12,
      "metadata": {
        "id": "_D5XNH3fyCsK"
      },
      "outputs": [
        {
          "ename": "NameError",
          "evalue": "name 'glob' is not defined",
          "output_type": "error",
          "traceback": [
            "\u001b[1;31m---------------------------------------------------------------------------\u001b[0m",
            "\u001b[1;31mNameError\u001b[0m                                 Traceback (most recent call last)",
            "\u001b[1;32m~\\AppData\\Local\\Temp/ipykernel_6356/1271050109.py\u001b[0m in \u001b[0;36m<module>\u001b[1;34m\u001b[0m\n\u001b[0;32m      1\u001b[0m \u001b[1;31m# Check out the segmentation data\u001b[0m\u001b[1;33m\u001b[0m\u001b[1;33m\u001b[0m\u001b[1;33m\u001b[0m\u001b[0m\n\u001b[0;32m      2\u001b[0m \u001b[1;33m\u001b[0m\u001b[0m\n\u001b[1;32m----> 3\u001b[1;33m \u001b[0mfiles\u001b[0m \u001b[1;33m=\u001b[0m \u001b[0mglob\u001b[0m\u001b[1;33m(\u001b[0m\u001b[1;34m'../VOCtrainval_06-Nov-2007/VOCdevkit/VOC2007/SegmentationClass/*.png'\u001b[0m\u001b[1;33m)\u001b[0m\u001b[1;33m\u001b[0m\u001b[1;33m\u001b[0m\u001b[0m\n\u001b[0m\u001b[0;32m      4\u001b[0m \u001b[0mprint\u001b[0m\u001b[1;33m(\u001b[0m\u001b[0mlen\u001b[0m\u001b[1;33m(\u001b[0m\u001b[0mfiles\u001b[0m\u001b[1;33m)\u001b[0m\u001b[1;33m)\u001b[0m\u001b[1;33m\u001b[0m\u001b[1;33m\u001b[0m\u001b[0m\n\u001b[0;32m      5\u001b[0m \u001b[1;33m\u001b[0m\u001b[0m\n",
            "\u001b[1;31mNameError\u001b[0m: name 'glob' is not defined"
          ]
        }
      ],
      "source": [
        "# Check out the segmentation data\n",
        "\n",
        "files = glob('../VOCtrainval_06-Nov-2007/VOCdevkit/VOC2007/SegmentationClass/*.png')\n",
        "print(len(files))\n",
        "\n",
        "# Read files and show the images\n",
        "id = 100\n",
        "file = files[id].split('\\\\')[-1].split('.')[0]\n",
        "print(file)\n",
        "rgb_file = '../VOCtrainval_06-Nov-2007/VOCdevkit/VOC2007/JPEGImages/' + file + '.jpg'\n",
        "class_file = '../VOCtrainval_06-Nov-2007/VOCdevkit/VOC2007/SegmentationClass/' + file + '.png'\n",
        "object_file = '../VOCtrainval_06-Nov-2007/VOCdevkit/VOC2007/SegmentationObject/' + file + '.png'\n",
        "\n",
        "im_rgb = cv2.imread(rgb_file)\n",
        "im_rgb = cv2.cvtColor(im_rgb, cv2.COLOR_BGR2RGB)\n",
        "plt.imshow(im_rgb)\n",
        "plt.show()\n",
        "\n",
        "im_class = cv2.imread(class_file)\n",
        "im_class = cv2.cvtColor(im_class, cv2.COLOR_BGR2RGB)\n",
        "plt.imshow(im_class)\n",
        "plt.show()\n",
        "\n",
        "im_object = cv2.imread(object_file)\n",
        "im_object = cv2.cvtColor(im_object, cv2.COLOR_BGR2RGB)\n",
        "plt.imshow(im_object)\n",
        "plt.show()\n",
        "\n",
        "# Read out the object instances\n",
        "\n",
        "# First we convert the class colors into unique indices\n",
        "def color2idx(c):\n",
        "  return c[0]*256**2 + c[1]*256 + c[2]\n",
        "\n",
        "voc_class_indices = {}\n",
        "for k in voc_class_colors.keys():\n",
        "  color = voc_class_colors[k]\n",
        "  voc_class_indices[color2idx(color)] = k\n",
        "\n",
        "\n",
        "print(voc_class_indices)\n",
        "\n",
        "# Then we convert im_class and im_object colors into indices.\n",
        "# Note the indices on im_object are meaningless and are just used to differentiate the objects' pixels.\n",
        "im_class = color2idx(im_class.transpose((2,0,1)))\n",
        "im_object = color2idx(im_object.transpose((2,0,1)))\n",
        "\n",
        "\n",
        "# Then we go over the pixels and build the segmented images in a dictionary\n",
        "object_container = {}\n",
        "counter = 0\n",
        "curr_classes = np.unique(im_class) # the first and the last ones are background and borders respectively\n",
        "print(curr_classes[1:-1])\n",
        "for idx in curr_classes[1:-1]:\n",
        "  cls = voc_class_indices[idx]\n",
        "  im_class_object = (im_class==idx).astype(np.int32) * im_object\n",
        "  curr_objects = np.unique(im_class_object) # the first and the last ones are background and borders respectively\n",
        "  print(f'Curr objects {curr_objects}')\n",
        "  for idx in curr_objects[1:]:\n",
        "    mask_object = (im_class_object==idx).astype(np.uint8)\n",
        "    pix_idx = np.where(mask_object)\n",
        "    y_min, y_max, x_min, x_max = [pix_idx[0][0], pix_idx[0][-1], np.min(pix_idx[1]), np.max(pix_idx[1])]\n",
        "\n",
        "    mask_object_crop = mask_object[y_min:y_max, x_min:x_max]\n",
        "    rgb_object_crop = im_rgb[y_min:y_max, x_min:x_max]\n",
        "\n",
        "    object_container[counter] = {'class': cls, 'rgb': rgb_object_crop, 'mask': mask_object_crop[:,:,np.newaxis]}\n",
        "    counter += 1\n",
        "\n",
        "    plt.imshow(rgb_object_crop)\n",
        "    plt.show()\n",
        "\n",
        "# Corrupt an image\n",
        "im = cv2.imread('../VOCtrainval_06-Nov-2007/VOCdevkit/VOC2007/JPEGImages/000007.jpg')\n",
        "im = cv2.cvtColor(im, cv2.COLOR_BGR2RGB)\n",
        "H, W, _ = im.shape\n",
        "plt.imshow(im)\n",
        "plt.show()\n",
        "\n",
        "for k in object_container.keys():\n",
        "  obj = object_container[k]\n",
        "  h, w, _ = obj['rgb'].shape\n",
        "\n",
        "  y, x = [np.random.randint(0, H-h), np.random.randint(0, W-w)]\n",
        "  im[y:y+h, x:x+w, :] = im[y:y+h, x:x+w, :] * (1-obj['mask']) + obj['rgb'] * obj['mask']\n",
        "\n",
        "  plt.imshow(im)\n",
        "  plt.show()\n"
      ]
    },
    {
      "cell_type": "code",
      "execution_count": null,
      "metadata": {
        "colab": {
          "base_uri": "https://localhost:8080/",
          "height": 384
        },
        "id": "H9YyBkiMyRx3",
        "outputId": "11c03fe6-c3f2-4f9a-ad43-02388f9000d9"
      },
      "outputs": [
        {
          "data": {
            "image/png": "[encoded data removed]",
            "text/plain": [
              "<Figure size 432x288 with 1 Axes>"
            ]
          },
          "metadata": {
            "needs_background": "light"
          },
          "output_type": "display_data"
        }
      ],
      "source": [
        "# plot the data distribution\n",
        "fig = plt.figure()\n",
        "ax = fig.add_axes([0,0,1,1])\n",
        "labs = voc_classes.keys()\n",
        "data_balance = np.sum(y_train, 0) / y_train.shape[0]\n",
        "ax.bar(labs,data_balance)\n",
        "plt.xticks([i for i in range(20)], labs, rotation='vertical')\n",
        "plt.show()\n"
      ]
    },
    {
      "cell_type": "code",
      "execution_count": null,
      "metadata": {
        "colab": {
          "base_uri": "https://localhost:8080/"
        },
        "id": "8MMzO1qM51DQ",
        "outputId": "d2cd7cb7-f94c-4fcb-cdc5-4a3d1ef1d729"
      },
      "outputs": [
        {
          "name": "stdout",
          "output_type": "stream",
          "text": [
            "Model: \"sequential_1\"\n",
            "_________________________________________________________________\n",
            " Layer (type)                Output Shape              Param #   \n",
            "=================================================================\n",
            " conv2d_6 (Conv2D)           (None, 224, 224, 32)      896       \n",
            "                                                                 \n",
            " activation_6 (Activation)   (None, 224, 224, 32)      0         \n",
            "                                                                 \n",
            " batch_normalization_6 (Batc  (None, 224, 224, 32)     128       \n",
            " hNormalization)                                                 \n",
            "                                                                 \n",
            " conv2d_7 (Conv2D)           (None, 224, 224, 32)      9248      \n",
            "                                                                 \n",
            " activation_7 (Activation)   (None, 224, 224, 32)      0         \n",
            "                                                                 \n",
            " batch_normalization_7 (Batc  (None, 224, 224, 32)     128       \n",
            " hNormalization)                                                 \n",
            "                                                                 \n",
            " max_pooling2d_3 (MaxPooling  (None, 112, 112, 32)     0         \n",
            " 2D)                                                             \n",
            "                                                                 \n",
            " dropout_3 (Dropout)         (None, 112, 112, 32)      0         \n",
            "                                                                 \n",
            " conv2d_8 (Conv2D)           (None, 112, 112, 64)      18496     \n",
            "                                                                 \n",
            " activation_8 (Activation)   (None, 112, 112, 64)      0         \n",
            "                                                                 \n",
            " batch_normalization_8 (Batc  (None, 112, 112, 64)     256       \n",
            " hNormalization)                                                 \n",
            "                                                                 \n",
            " conv2d_9 (Conv2D)           (None, 112, 112, 64)      36928     \n",
            "                                                                 \n",
            " activation_9 (Activation)   (None, 112, 112, 64)      0         \n",
            "                                                                 \n",
            " batch_normalization_9 (Batc  (None, 112, 112, 64)     256       \n",
            " hNormalization)                                                 \n",
            "                                                                 \n",
            " max_pooling2d_4 (MaxPooling  (None, 56, 56, 64)       0         \n",
            " 2D)                                                             \n",
            "                                                                 \n",
            " dropout_4 (Dropout)         (None, 56, 56, 64)        0         \n",
            "                                                                 \n",
            " conv2d_10 (Conv2D)          (None, 56, 56, 128)       73856     \n",
            "                                                                 \n",
            " activation_10 (Activation)  (None, 56, 56, 128)       0         \n",
            "                                                                 \n",
            " batch_normalization_10 (Bat  (None, 56, 56, 128)      512       \n",
            " chNormalization)                                                \n",
            "                                                                 \n",
            " conv2d_11 (Conv2D)          (None, 56, 56, 128)       147584    \n",
            "                                                                 \n",
            " activation_11 (Activation)  (None, 56, 56, 128)       0         \n",
            "                                                                 \n",
            " batch_normalization_11 (Bat  (None, 56, 56, 128)      512       \n",
            " chNormalization)                                                \n",
            "                                                                 \n",
            " max_pooling2d_5 (MaxPooling  (None, 28, 28, 128)      0         \n",
            " 2D)                                                             \n",
            "                                                                 \n",
            " dropout_5 (Dropout)         (None, 28, 28, 128)       0         \n",
            "                                                                 \n",
            " flatten (Flatten)           (None, 100352)            0         \n",
            "                                                                 \n",
            " dense_1 (Dense)             (None, 20)                2007060   \n",
            "                                                                 \n",
            "=================================================================\n",
            "Total params: 2,295,860\n",
            "Trainable params: 2,294,964\n",
            "Non-trainable params: 896\n",
            "_________________________________________________________________\n"
          ]
        }
      ],
      "source": [
        "weight_decay = 1e-4\n",
        "model = Sequential()\n",
        "model.add(Conv2D(32, (3,3), padding='same', kernel_regularizer=regularizers.l2(weight_decay), input_shape=x_train.shape[1:]))\n",
        "model.add(Activation('relu'))\n",
        "model.add(BatchNormalization())\n",
        "if capacity is 'high':\n",
        "  model.add(Conv2D(32, (3,3), padding='same', kernel_regularizer=regularizers.l2(weight_decay)))\n",
        "  model.add(Activation('relu'))\n",
        "  model.add(BatchNormalization())\n",
        "model.add(MaxPooling2D(pool_size=(2,2)))\n",
        "if drop_out:\n",
        "  model.add(Dropout(0.2))\n",
        " \n",
        "model.add(Conv2D(64, (3,3), padding='same', kernel_regularizer=regularizers.l2(weight_decay)))\n",
        "model.add(Activation('relu'))\n",
        "model.add(BatchNormalization())\n",
        "if capacity is 'high':\n",
        "  model.add(Conv2D(64, (3,3), padding='same', kernel_regularizer=regularizers.l2(weight_decay)))\n",
        "  model.add(Activation('relu'))\n",
        "  model.add(BatchNormalization())\n",
        "model.add(MaxPooling2D(pool_size=(2,2)))\n",
        "if drop_out:\n",
        "  model.add(Dropout(0.3))\n",
        " \n",
        "model.add(Conv2D(128, (3,3), padding='same', kernel_regularizer=regularizers.l2(weight_decay)))\n",
        "model.add(Activation('relu'))\n",
        "model.add(BatchNormalization())\n",
        "if capacity is 'high':\n",
        "  model.add(Conv2D(128, (3,3), padding='same', kernel_regularizer=regularizers.l2(weight_decay)))\n",
        "  model.add(Activation('relu'))\n",
        "  model.add(BatchNormalization())\n",
        "model.add(MaxPooling2D(pool_size=(2,2)))\n",
        "if drop_out:\n",
        "  model.add(Dropout(0.4))\n",
        "\n",
        "if globalAVGPooling:\n",
        "  model.add(GlobalAveragePooling2D())\n",
        "else:\n",
        "  model.add(Flatten())\n",
        "\n",
        "model.add(Dense(num_classes, activation=last_layer_activation))\n",
        " \n",
        "model.summary()"
      ]
    },
    {
      "cell_type": "code",
      "execution_count": null,
      "metadata": {
        "colab": {
          "base_uri": "https://localhost:8080/"
        },
        "id": "YzOjDOS26Dip",
        "outputId": "ff2d26e9-03e0-4a88-f359-cc503c6242f5"
      },
      "outputs": [
        {
          "name": "stdout",
          "output_type": "stream",
          "text": [
            "Epoch 1/12\n"
          ]
        },
        {
          "name": "stderr",
          "output_type": "stream",
          "text": [
            "/usr/local/lib/python3.7/dist-packages/ipykernel_launcher.py:39: UserWarning: `Model.fit_generator` is deprecated and will be removed in a future version. Please use `Model.fit`, which supports generators.\n",
            "/usr/local/lib/python3.7/dist-packages/keras_preprocessing/image/image_data_generator.py:720: UserWarning: This ImageDataGenerator specifies `featurewise_center`, but it hasn't been fit on any training data. Fit it first by calling `.fit(numpy_data)`.\n",
            "  warnings.warn('This ImageDataGenerator specifies '\n"
          ]
        },
        {
          "name": "stdout",
          "output_type": "stream",
          "text": [
            "32/32 [==============================] - 23s 640ms/step - loss: 0.3449 - auc: 0.9350 - f1_metric: 0.6294 - val_loss: 0.6318 - val_auc: 0.7465 - val_f1_metric: 0.3166\n",
            "Epoch 2/12\n",
            "32/32 [==============================] - 20s 627ms/step - loss: 0.2169 - auc: 0.9662 - f1_metric: 0.7633 - val_loss: 0.9177 - val_auc: 0.7096 - val_f1_metric: 0.2552\n",
            "Epoch 3/12\n",
            "32/32 [==============================] - 20s 630ms/step - loss: 0.1806 - auc: 0.9779 - f1_metric: 0.7998 - val_loss: 0.8563 - val_auc: 0.7154 - val_f1_metric: 0.2797\n",
            "Epoch 4/12\n",
            "32/32 [==============================] - 20s 633ms/step - loss: 0.1907 - auc: 0.9766 - f1_metric: 0.7996 - val_loss: 0.7635 - val_auc: 0.7177 - val_f1_metric: 0.2744\n",
            "Epoch 5/12\n",
            "32/32 [==============================] - 20s 636ms/step - loss: 0.1339 - auc: 0.9834 - f1_metric: 0.8421 - val_loss: 0.6538 - val_auc: 0.7397 - val_f1_metric: 0.3327\n",
            "Epoch 6/12\n",
            "32/32 [==============================] - 21s 640ms/step - loss: 0.1187 - auc: 0.9863 - f1_metric: 0.8664 - val_loss: 0.6782 - val_auc: 0.7339 - val_f1_metric: 0.2854\n",
            "Epoch 7/12\n",
            "32/32 [==============================] - 20s 636ms/step - loss: 0.1589 - auc: 0.9803 - f1_metric: 0.8547 - val_loss: 0.7909 - val_auc: 0.7044 - val_f1_metric: 0.2082\n",
            "Epoch 8/12\n",
            "32/32 [==============================] - 21s 639ms/step - loss: 0.1150 - auc: 0.9867 - f1_metric: 0.8711 - val_loss: 0.8924 - val_auc: 0.6935 - val_f1_metric: 0.2485\n",
            "Epoch 9/12\n",
            "32/32 [==============================] - 20s 636ms/step - loss: 0.1178 - auc: 0.9895 - f1_metric: 0.8941 - val_loss: 0.8525 - val_auc: 0.7115 - val_f1_metric: 0.2828\n",
            "Epoch 10/12\n",
            "32/32 [==============================] - 20s 636ms/step - loss: 0.1086 - auc: 0.9891 - f1_metric: 0.8957 - val_loss: 0.8243 - val_auc: 0.7118 - val_f1_metric: 0.2834\n",
            "Epoch 11/12\n",
            "32/32 [==============================] - 21s 639ms/step - loss: 0.1033 - auc: 0.9919 - f1_metric: 0.9124 - val_loss: 0.7495 - val_auc: 0.7060 - val_f1_metric: 0.3191\n",
            "Epoch 12/12\n",
            "32/32 [==============================] - 21s 640ms/step - loss: 0.1175 - auc: 0.9887 - f1_metric: 0.9025 - val_loss: 0.9016 - val_auc: 0.6875 - val_f1_metric: 0.3154\n"
          ]
        }
      ],
      "source": [
        "#training\n",
        "\n",
        "def recall_m(y_true, y_pred):\n",
        "    true_positives = K.sum(K.round(K.clip(y_true * y_pred, 0, 1)))\n",
        "    possible_positives = K.sum(K.round(K.clip(y_true, 0, 1)))\n",
        "    recall = true_positives / (possible_positives + K.epsilon())\n",
        "    return recall\n",
        "\n",
        "def precision_m(y_true, y_pred):\n",
        "    true_positives = K.sum(K.round(K.clip(y_true * y_pred, 0, 1)))\n",
        "    predicted_positives = K.sum(K.round(K.clip(y_pred, 0, 1)))\n",
        "    precision = true_positives / (predicted_positives + K.epsilon())\n",
        "    return precision\n",
        "\n",
        "def f1_metric(y_true, y_pred):\n",
        "    precision = precision_m(y_true, y_pred)\n",
        "    recall = recall_m(y_true, y_pred)\n",
        "    return 2*((precision*recall)/(precision+recall+K.epsilon()))\n",
        "\n",
        "#data augmentation\n",
        "val_data_gen_args = dict(rescale = None if per_sample_normalization else 1./255,\n",
        "                     samplewise_center=True if per_sample_normalization else False,\n",
        "                     samplewise_std_normalization=True if per_sample_normalization else False)\n",
        "train_data_gen_args = dict(rescale = None if per_sample_normalization else 1./255,\n",
        "                     samplewise_center=True if per_sample_normalization else False,\n",
        "                     samplewise_std_normalization=True if per_sample_normalization else False,\n",
        "                     rotation_range=20,\n",
        "                     width_shift_range=0.1,\n",
        "                     height_shift_range=0.1,\n",
        "                     zoom_range=0.2) if data_augmentation else val_data_gen_args\n",
        "training_datagen = ImageDataGenerator(train_data_gen_args)\n",
        "training_set = training_datagen.flow(x_train, y_train, batch_size=batch_size)\n",
        "val_datagen = ImageDataGenerator(val_data_gen_args)\n",
        "val_set = val_datagen.flow(x_test, y_test, batch_size=batch_size)\n",
        " \n",
        "opt_rms = optimizers.RMSprop(learning_rate=0.001, decay=1e-6)\n",
        "model.compile(loss=loss, optimizer=opt_rms, metrics=['AUC', f1_metric])\n",
        "mdl_fit = model.fit_generator(training_set, steps_per_epoch=x_train.shape[0] // batch_size, \n",
        "                    epochs=n_epochs, verbose=1, validation_data=val_set)"
      ]
    },
    {
      "cell_type": "code",
      "execution_count": null,
      "metadata": {
        "colab": {
          "base_uri": "https://localhost:8080/",
          "height": 778
        },
        "id": "LoRNBpJD7zVA",
        "outputId": "09dc8711-bf06-45fb-c9f0-d0f5f3d75e29"
      },
      "outputs": [
        {
          "data": {
            "image/png": "[encoded data removed]",
            "text/plain": [
              "<Figure size 432x288 with 1 Axes>"
            ]
          },
          "metadata": {
            "needs_background": "light"
          },
          "output_type": "display_data"
        },
        {
          "data": {
            "image/png": "[encoded data removed]",
            "text/plain": [
              "<Figure size 432x288 with 1 Axes>"
            ]
          },
          "metadata": {
            "needs_background": "light"
          },
          "output_type": "display_data"
        },
        {
          "data": {
            "image/png": "[encoded data removed]",
            "text/plain": [
              "<Figure size 432x288 with 1 Axes>"
            ]
          },
          "metadata": {
            "needs_background": "light"
          },
          "output_type": "display_data"
        },
        {
          "data": {
            "text/plain": [
              "<Figure size 432x288 with 0 Axes>"
            ]
          },
          "metadata": {},
          "output_type": "display_data"
        }
      ],
      "source": [
        "# plot the loss\n",
        "plt.plot(mdl_fit.history['loss'], label='train loss')\n",
        "plt.plot(mdl_fit.history['val_loss'], label='val loss')\n",
        "plt.legend()\n",
        "plt.show()\n",
        "plt.savefig(txt+'_LossVal_loss')\n",
        "\n",
        "# plot the AUC\n",
        "plt.plot(mdl_fit.history['auc'], label='train auc')\n",
        "plt.plot(mdl_fit.history['val_auc'], label='val auc')\n",
        "plt.legend()\n",
        "plt.show()\n",
        "plt.savefig(txt+'_aucVal')\n",
        "\n",
        "# plot the F1\n",
        "plt.plot(mdl_fit.history['f1_metric'], label='train f1')\n",
        "plt.plot(mdl_fit.history['val_f1_metric'], label='val f1')\n",
        "plt.legend()\n",
        "plt.show()\n",
        "plt.savefig(txt+'_f1Val')\n",
        "\n",
        "#save model to disk\n",
        "model.save_weights('model.h5')"
      ]
    }
  ],
  "metadata": {
    "colab": {
      "name": "CNN_voc.ipynb",
      "provenance": []
    },
    "kernelspec": {
      "display_name": "Python 3",
      "name": "python3"
    },
    "language_info": {
      "codemirror_mode": {
        "name": "ipython",
        "version": 3
      },
      "file_extension": ".py",
      "mimetype": "text/x-python",
      "name": "python",
      "nbconvert_exporter": "python",
      "pygments_lexer": "ipython3",
      "version": "3.8.12"
    }
  },
  "nbformat": 4,
  "nbformat_minor": 0
}
