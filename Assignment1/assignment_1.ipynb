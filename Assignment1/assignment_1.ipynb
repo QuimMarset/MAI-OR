{
 "cells": [
  {
   "cell_type": "markdown",
   "metadata": {},
   "source": [
    "## OR - Assignment 1"
   ]
  },
  {
   "cell_type": "markdown",
   "metadata": {},
   "source": [
    "##### Author: Joaquim Marset Alsina"
   ]
  },
  {
   "cell_type": "markdown",
   "metadata": {},
   "source": [
    "### Imports"
   ]
  },
  {
   "cell_type": "code",
   "execution_count": 1,
   "metadata": {},
   "outputs": [],
   "source": [
    "import os\n",
    "import matplotlib.pyplot as plt\n",
    "import random\n",
    "from dataset import *\n",
    "from generator import ImageGenerator\n",
    "from train import Trainer\n",
    "from load_utils import *\n",
    "from segmentation_utils import extract_segmentations, filter_segmentations_train\n",
    "from model_utils import mobile_name, resnet_name, inception_name"
   ]
  },
  {
   "cell_type": "markdown",
   "metadata": {},
   "source": [
    "### Constants"
   ]
  },
  {
   "cell_type": "code",
   "execution_count": 2,
   "metadata": {},
   "outputs": [],
   "source": [
    "root_path = \".\"\n",
    "train_val_path = os.path.join(root_path, 'VOCtrainval_06-Nov-2007', 'VOCdevkit', 'VOC2007')\n",
    "\n",
    "segmentations_path = os.path.join(train_val_path, \"SegmentationObject\")\n",
    "annotations_path = os.path.join(train_val_path, \"Annotations\")\n",
    "images_path = os.path.join(train_val_path, \"JPEGImages\")\n",
    "\n",
    "pickle_path = os.path.join(root_path, \"segmentations.pkl\")\n",
    "\n",
    "results_path = os.path.join(root_path, 'results')\n",
    "results_mobile_path = os.path.join(results_path, mobile_name)\n",
    "results_resnet_path = os.path.join(results_path, resnet_name)\n",
    "results_inception_path = os.path.join(results_path, inception_name)"
   ]
  },
  {
   "cell_type": "code",
   "execution_count": 3,
   "metadata": {},
   "outputs": [],
   "source": [
    "seed = 1412\n",
    "image_size = 224\n",
    "num_classes = 20\n",
    "val_percentage = 0.2\n",
    "prob_augment = 0.5\n",
    "batch_size = 32\n",
    "num_epochs = 5"
   ]
  },
  {
   "cell_type": "markdown",
   "metadata": {},
   "source": [
    "### Create required folders"
   ]
  },
  {
   "cell_type": "code",
   "execution_count": 4,
   "metadata": {},
   "outputs": [],
   "source": [
    "if not exists_path(results_path):\n",
    "    create_results_folder(results_path)\n",
    "    create_results_folder(results_mobile_path)\n",
    "    create_results_folder(results_resnet_path)\n",
    "    create_results_folder(results_inception_path)"
   ]
  },
  {
   "cell_type": "markdown",
   "metadata": {},
   "source": [
    "### Extract segmentation objects"
   ]
  },
  {
   "cell_type": "code",
   "execution_count": 5,
   "metadata": {},
   "outputs": [],
   "source": [
    "if not exists_path(pickle_path):\n",
    "    segmentation_objects = extract_segmentations(images_path, segmentations_path, annotations_path, image_size)\n",
    "    save_segmentations(pickle_path, segmentation_objects)\n",
    "else:\n",
    "    segmentation_objects = load_segmentations_pickle(pickle_path)"
   ]
  },
  {
   "cell_type": "markdown",
   "metadata": {},
   "source": [
    "### Create train and validation sets"
   ]
  },
  {
   "cell_type": "code",
   "execution_count": 6,
   "metadata": {},
   "outputs": [],
   "source": [
    "images_names = [image_file[:-4] for image_file in os.listdir(images_path)]\n",
    "random.Random(seed).shuffle(images_names)"
   ]
  },
  {
   "cell_type": "code",
   "execution_count": 7,
   "metadata": {},
   "outputs": [],
   "source": [
    "train_names, val_names = create_train_val_split(images_names, val_percentage, seed)\n",
    "\n",
    "# Among the segmented objects, pick only from the current training split\n",
    "train_segmentations = filter_segmentations_train(segmentation_objects, train_names)\n",
    "del segmentation_objects"
   ]
  },
  {
   "cell_type": "markdown",
   "metadata": {},
   "source": [
    "### Experiments"
   ]
  },
  {
   "cell_type": "code",
   "execution_count": 8,
   "metadata": {},
   "outputs": [],
   "source": [
    "# Unchanged during all experiments\n",
    "val_dataset = Dataset(images_path, annotations_path, val_names, image_size, seed)\n",
    "val_generator = ImageGenerator(batch_size, val_dataset, seed)"
   ]
  },
  {
   "cell_type": "code",
   "execution_count": 9,
   "metadata": {},
   "outputs": [],
   "source": [
    "def run_experiment(model_name, train_gen, fine_tune, experiment_name):\n",
    "    file_suffix, plot_title = experiment_name\n",
    "    trainer = Trainer(results_path, \"\", model_name, image_size, num_classes, fine_tune)\n",
    "    trainer.train(num_epochs, train_gen, val_generator, file_suffix, plot_title)"
   ]
  },
  {
   "cell_type": "markdown",
   "metadata": {},
   "source": [
    "#### MobileNetv2 - No augmentation"
   ]
  },
  {
   "cell_type": "code",
   "execution_count": 10,
   "metadata": {},
   "outputs": [
    {
     "data": {
      "text/plain": [
       "\"\\naugmentation_mode = AugmentationMode.NoAugmentation\\n\\ntrain_dataset = TrainDataset(images_path, annotations_path, train_names, image_size, train_segmentations, \\n    augmentation_mode, overlap, num_to_place, prob_augment, seed)\\n\\ntrain_generator = ImageGenerator(batch_size, train_dataset, seed)\\n\\nexperiment_name_file = 'no_augmentation'\\nexperiment_name_title = 'No augmentation'\\n\\nrun_experiment(mobile_name, train_generator, True, (experiment_name_file, experiment_name_title))\\n\""
      ]
     },
     "execution_count": 10,
     "metadata": {},
     "output_type": "execute_result"
    }
   ],
   "source": [
    "\"\"\"\n",
    "augmentation_mode = AugmentationMode.NoAugmentation\n",
    "\n",
    "train_dataset = TrainDataset(images_path, annotations_path, train_names, image_size, train_segmentations, \n",
    "    augmentation_mode, overlap, num_to_place, prob_augment, seed)\n",
    "\n",
    "train_generator = ImageGenerator(batch_size, train_dataset, seed)\n",
    "\n",
    "experiment_name_file = 'no_augmentation'\n",
    "experiment_name_title = 'No augmentation'\n",
    "\n",
    "run_experiment(mobile_name, train_generator, True, (experiment_name_file, experiment_name_title))\n",
    "\"\"\""
   ]
  },
  {
   "cell_type": "markdown",
   "metadata": {},
   "source": [
    "#### MobileNetv2 - Augmentation without overlap"
   ]
  },
  {
   "cell_type": "code",
   "execution_count": null,
   "metadata": {},
   "outputs": [],
   "source": [
    "augmentation_mode = AugmentationMode.Augmentation\n",
    "num_objects_to_place = 3\n",
    "\n",
    "train_dataset = TrainDataset(images_path, annotations_path, train_names, image_size, train_segmentations, \n",
    "    augmentation_mode, num_objects_to_place, prob_augment, seed)\n",
    "\n",
    "train_generator = ImageGenerator(batch_size, train_dataset, seed)\n",
    "\n",
    "experiment_name_file = 'augmentation'\n",
    "experiment_name_title = 'Augmentation'\n",
    "\n",
    "run_experiment(mobile_name, train_generator, True, (experiment_name_file, experiment_name_title))"
   ]
  },
  {
   "cell_type": "markdown",
   "metadata": {},
   "source": [
    "#### MobileNetv2 - Augmentation with overlap"
   ]
  },
  {
   "cell_type": "markdown",
   "metadata": {},
   "source": [
    "#### MobileNetv2 - Augmentation with overlap and random transformations"
   ]
  },
  {
   "cell_type": "markdown",
   "metadata": {},
   "source": [
    "#### MobileNetv2 - Augmentation with overlap and equal proportions of labels"
   ]
  }
 ],
 "metadata": {
  "interpreter": {
   "hash": "533c2185332143a706e3d08f01470be76fb9f50f6b8ba0f3da304c526a5ee705"
  },
  "kernelspec": {
   "display_name": "Python 3.8.12 ('base')",
   "language": "python",
   "name": "python3"
  },
  "language_info": {
   "codemirror_mode": {
    "name": "ipython",
    "version": 3
   },
   "file_extension": ".py",
   "mimetype": "text/x-python",
   "name": "python",
   "nbconvert_exporter": "python",
   "pygments_lexer": "ipython3",
   "version": "3.8.12"
  },
  "orig_nbformat": 4
 },
 "nbformat": 4,
 "nbformat_minor": 2
}
