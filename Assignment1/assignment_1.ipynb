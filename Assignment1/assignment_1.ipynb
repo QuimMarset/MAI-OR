{
 "cells": [
  {
   "cell_type": "markdown",
   "metadata": {},
   "source": [
    "## OR - Assignment 1"
   ]
  },
  {
   "cell_type": "markdown",
   "metadata": {},
   "source": [
    "##### Author: Joaquim Marset Alsina"
   ]
  },
  {
   "cell_type": "markdown",
   "metadata": {},
   "source": [
    "### Imports"
   ]
  },
  {
   "cell_type": "code",
   "execution_count": 1,
   "metadata": {},
   "outputs": [],
   "source": [
    "import os\n",
    "import random\n",
    "from generator import ImageGenerator, TrainImageGenerator, TrainBalancedImageGenerator\n",
    "from train import Trainer\n",
    "from load_utils import *\n",
    "from segmentation_utils import extract_train_segmentations, sort_objects_to_balance\n",
    "from model_utils import mobile_name\n",
    "from other_utils import *"
   ]
  },
  {
   "cell_type": "markdown",
   "metadata": {},
   "source": [
    "### Constants"
   ]
  },
  {
   "cell_type": "code",
   "execution_count": 2,
   "metadata": {},
   "outputs": [],
   "source": [
    "root_path = \"./\"\n",
    "train_val_path = os.path.join(root_path, 'VOCtrainval_06-Nov-2007', 'VOCdevkit', 'VOC2007')\n",
    "seg_objects_path = os.path.join(train_val_path, \"SegmentationObject\")\n",
    "seg_classes_path = os.path.join(train_val_path, \"SegmentationClass\")\n",
    "annotations_path = os.path.join(train_val_path, \"Annotations\")\n",
    "images_path = os.path.join(train_val_path, \"JPEGImages\")\n",
    "\n",
    "train_split_path = os.path.join(root_path, 'voc_train.txt')\n",
    "val_split_path = os.path.join(root_path, 'voc_val.txt')\n",
    "\n",
    "segmentations_pickle_path = os.path.join(root_path, \"segmentations.pkl\")\n",
    "train_classes_counts_path = os.path.join(root_path, \"trian_classes_counts.pkl\")\n",
    "\n",
    "results_path = os.path.join(root_path, 'results')\n",
    "results_mobile_path = os.path.join(results_path, mobile_name)\n",
    "\n",
    "models_path = os.path.join(root_path, 'models')\n",
    "models_mobile_path = os.path.join(models_path, mobile_name)"
   ]
  },
  {
   "cell_type": "code",
   "execution_count": 3,
   "metadata": {},
   "outputs": [],
   "source": [
    "seed = 1412\n",
    "image_size = 224\n",
    "val_percentage = 0.2\n",
    "prob_augment = 0.5\n",
    "batch_size = 32\n",
    "num_epochs = 50\n",
    "num_classes = get_num_classes()"
   ]
  },
  {
   "cell_type": "markdown",
   "metadata": {},
   "source": [
    "### Create required folders"
   ]
  },
  {
   "cell_type": "code",
   "execution_count": 4,
   "metadata": {},
   "outputs": [],
   "source": [
    "if not exists_path(results_path):\n",
    "    create_results_folder(results_path)\n",
    "    create_results_folder(results_mobile_path)"
   ]
  },
  {
   "cell_type": "code",
   "execution_count": 5,
   "metadata": {},
   "outputs": [],
   "source": [
    "if not exists_path(models_path):\n",
    "    create_results_folder(models_path)\n",
    "    create_results_folder(models_mobile_path)"
   ]
  },
  {
   "cell_type": "markdown",
   "metadata": {},
   "source": [
    "### Load train and validation split"
   ]
  },
  {
   "cell_type": "code",
   "execution_count": 6,
   "metadata": {},
   "outputs": [],
   "source": [
    "train_names, val_names = read_train_val_split(train_split_path, val_split_path)\n",
    "\n",
    "random.Random(seed).shuffle(train_names)\n",
    "random.Random(seed).shuffle(val_names)"
   ]
  },
  {
   "cell_type": "markdown",
   "metadata": {},
   "source": [
    "### Extract segmentation objects"
   ]
  },
  {
   "cell_type": "code",
   "execution_count": 7,
   "metadata": {},
   "outputs": [],
   "source": [
    "if not exists_path(segmentations_pickle_path):\n",
    "    train_segmentations = extract_train_segmentations(images_path, seg_objects_path, seg_classes_path, train_names, image_size)\n",
    "    save_dict_to_pickle(segmentations_pickle_path, train_segmentations)\n",
    "else:\n",
    "    train_segmentations = load_pickle_dict(segmentations_pickle_path)"
   ]
  },
  {
   "cell_type": "markdown",
   "metadata": {},
   "source": [
    "### Experiments"
   ]
  },
  {
   "cell_type": "code",
   "execution_count": 8,
   "metadata": {},
   "outputs": [],
   "source": [
    "# Unchanged during all experiments\n",
    "val_generator = ImageGenerator(batch_size, images_path, annotations_path, val_names, image_size, seed)"
   ]
  },
  {
   "cell_type": "code",
   "execution_count": 9,
   "metadata": {},
   "outputs": [],
   "source": [
    "fine_tune_epochs = 30\n",
    "\n",
    "def run_experiment_fine_tune(model_name, results_path, models_path, train_gen, experiment_name, model_file, verbose=0):\n",
    "    file_name, plot_title = experiment_name\n",
    "    trainer = Trainer(results_path, models_path, model_name, image_size, num_classes)\n",
    "    trainer.train_fine_tune(num_epochs, fine_tune_epochs, train_gen, val_generator, file_name, plot_title, model_file, verbose)"
   ]
  },
  {
   "cell_type": "markdown",
   "metadata": {},
   "source": [
    "#### MobileNetv2 - No augmentation"
   ]
  },
  {
   "cell_type": "code",
   "execution_count": null,
   "metadata": {},
   "outputs": [],
   "source": [
    "augmentation_mode = AugmentationMode.NoAugmentation\n",
    "\n",
    "train_generator = ImageGenerator(batch_size, images_path, annotations_path, train_names, image_size, seed)\n",
    "\n",
    "experiment_name_file = 'no_augmentation'\n",
    "experiment_name_title = 'No augmentation'\n",
    "model_file = experiment_name_file\n",
    "\n",
    "run_experiment_fine_tune(mobile_name, results_mobile_path, models_mobile_path, \n",
    "    train_generator, (experiment_name_file, experiment_name_title), model_file)"
   ]
  },
  {
   "cell_type": "markdown",
   "metadata": {},
   "source": [
    "#### MobileNetv2 - Augmentation without overlap"
   ]
  },
  {
   "cell_type": "code",
   "execution_count": null,
   "metadata": {},
   "outputs": [],
   "source": [
    "augmentation_mode = AugmentationMode.Augmentation\n",
    "\n",
    "for num_to_place in [1, 3, 5]:\n",
    "\n",
    "    train_generator = TrainImageGenerator(batch_size, images_path, annotations_path, train_names, \n",
    "    image_size, train_segmentations, augmentation_mode, num_to_place, prob_augment, seed)\n",
    "\n",
    "    experiment_name_file = f'augmentation_{num_to_place}'\n",
    "    experiment_name_title = f'Augmentation - Placing {num_to_place}'\n",
    "    model_file = experiment_name_file\n",
    "\n",
    "    run_experiment_fine_tune(mobile_name, results_mobile_path, models_mobile_path, \n",
    "        train_generator, (experiment_name_file, experiment_name_title), model_file)\n",
    "\n",
    "    print(f'Finished experiment placing {num_to_place} objects')"
   ]
  },
  {
   "cell_type": "markdown",
   "metadata": {},
   "source": [
    "#### MobileNetv2 - Augmentation without overlap applying random transformations"
   ]
  },
  {
   "cell_type": "code",
   "execution_count": null,
   "metadata": {},
   "outputs": [],
   "source": [
    "augmentation_mode = AugmentationMode.AugmentationTransform\n",
    "\n",
    "for num_to_place in [1, 3, 5]:\n",
    "\n",
    "    train_generator = TrainImageGenerator(batch_size, images_path, annotations_path, train_names, \n",
    "        image_size, train_segmentations, augmentation_mode, num_to_place, prob_augment, seed)\n",
    "\n",
    "    experiment_name_file = f'augmentation_transform_{num_to_place}'\n",
    "    experiment_name_title = f'Augmentation - Random transformations - Placing {num_to_place}'\n",
    "    model_file = experiment_name_file\n",
    "\n",
    "    run_experiment_fine_tune(mobile_name, results_mobile_path, models_mobile_path, \n",
    "        train_generator, (experiment_name_file, experiment_name_title), model_file)\n",
    "\n",
    "    print(f'Finished experiment placing {num_to_place} objects')"
   ]
  },
  {
   "cell_type": "markdown",
   "metadata": {},
   "source": [
    "#### MobileNetv2 - Augmentation without overlap keeping the same class proportion"
   ]
  },
  {
   "cell_type": "code",
   "execution_count": 25,
   "metadata": {},
   "outputs": [],
   "source": [
    "if not exists_path(train_classes_counts_path):\n",
    "    train_classes_counts = extract_train_classes_counts(annotations_path, train_names)\n",
    "    save_dict_to_pickle(train_classes_counts_path, train_classes_counts)\n",
    "else:\n",
    "    train_classes_counts = load_pickle_dict(train_classes_counts_path)"
   ]
  },
  {
   "cell_type": "code",
   "execution_count": null,
   "metadata": {},
   "outputs": [],
   "source": [
    "augmentation_mode = AugmentationMode.AugmentationSameProportion\n",
    "\n",
    "for fraction in [4, 3, 2]:\n",
    "\n",
    "    place_per_label, objects_per_label = sort_objects_to_balance(train_classes_counts, train_segmentations, fraction)\n",
    "\n",
    "    experiment_name_file = f'augmentation_proportions_{fraction}'\n",
    "    experiment_name_title = f'Augmentation - Same class proportion 1/{fraction} of person'\n",
    "    model_file = experiment_name_file\n",
    "\n",
    "    histogram_path = os.path.join(results_path, f'{experiment_name_file}_{fraction}_fine_tune_class_histogram.png')\n",
    "\n",
    "    train_generator = TrainBalancedImageGenerator(batch_size, images_path, annotations_path, train_names, \n",
    "        image_size, place_per_label, objects_per_label, augmentation_mode, histogram_path, seed)\n",
    "\n",
    "    run_experiment_fine_tune(mobile_name, results_mobile_path, models_mobile_path, \n",
    "        train_generator, (experiment_name_file, experiment_name_title), model_file)\n",
    "\n",
    "    print(f'Finished experiment balancing up to 1/{fraction} of person objects')"
   ]
  },
  {
   "cell_type": "markdown",
   "metadata": {},
   "source": [
    "#### MobileNetv2 - Augmentation without overlap applying random transformations and keeping the same class proportion"
   ]
  },
  {
   "cell_type": "code",
   "execution_count": null,
   "metadata": {},
   "outputs": [],
   "source": [
    "augmentation_mode = AugmentationMode.AugmentationTransformSameProportion\n",
    "\n",
    "for fraction in [4, 3, 2]:\n",
    "\n",
    "    place_per_label, objects_per_label = sort_objects_to_balance(train_classes_counts, train_segmentations, fraction)\n",
    "\n",
    "    experiment_name_file = f'augmentation_transform_proportions_{fraction}'\n",
    "    experiment_name_title = f'Augmentation - Random transformations - Same class proportion 1/{fraction} of person'\n",
    "    model_file = experiment_name_file\n",
    "\n",
    "    histogram_path = os.path.join(results_path, f'{experiment_name_file}_{fraction}_fine_tune_class_histogram.png')\n",
    "\n",
    "    train_generator = TrainBalancedImageGenerator(batch_size, images_path, annotations_path, train_names, \n",
    "        image_size, place_per_label, objects_per_label, augmentation_mode, histogram_path, seed)\n",
    "\n",
    "    run_experiment_fine_tune(mobile_name, results_mobile_path, models_mobile_path, \n",
    "        train_generator, (experiment_name_file, experiment_name_title), model_file)\n",
    "\n",
    "    print(f'Finished experiment balancing up to 1/{fraction} of person objects')"
   ]
  },
  {
   "cell_type": "markdown",
   "metadata": {},
   "source": [
    "#### MobileNetv2 - Augmentation with overlap"
   ]
  },
  {
   "cell_type": "code",
   "execution_count": null,
   "metadata": {},
   "outputs": [],
   "source": [
    "augmentation_mode = AugmentationMode.AugmentationOverlap\n",
    "\n",
    "for num_to_place in [1, 3, 5]:\n",
    "\n",
    "    train_generator = TrainImageGenerator(batch_size, images_path, annotations_path, train_names, \n",
    "        image_size, train_segmentations, augmentation_mode, num_to_place, prob_augment, seed)\n",
    "\n",
    "    experiment_name_file = f'augmentation_overlap_{num_to_place}'\n",
    "    experiment_name_title = f'Augmentation - Overlap - Placing {num_to_place}'\n",
    "    model_file = experiment_name_file\n",
    "\n",
    "    run_experiment_fine_tune(mobile_name, results_mobile_path, models_mobile_path, \n",
    "        train_generator, (experiment_name_file, experiment_name_title), model_file)\n",
    "\n",
    "    print(f'Finished experiment placing {num_to_place} objects')"
   ]
  },
  {
   "cell_type": "markdown",
   "metadata": {},
   "source": [
    "#### MobileNetv2 - Augmentation with overlap and random transformations"
   ]
  },
  {
   "cell_type": "code",
   "execution_count": null,
   "metadata": {},
   "outputs": [],
   "source": [
    "augmentation_mode = AugmentationMode.AugmentationOverlapTransform\n",
    "\n",
    "for num_to_place in [1, 3, 5]:\n",
    "\n",
    "    train_generator = TrainImageGenerator(batch_size, images_path, annotations_path, train_names, \n",
    "        image_size, train_segmentations, augmentation_mode, num_to_place, prob_augment, seed)\n",
    "\n",
    "    experiment_name_file = f'augmentation_transform_overlap_{num_to_place}'\n",
    "    experiment_name_title = f'Augmentation - Overlap - Random transformations - Placing {num_to_place}'\n",
    "    model_file = experiment_name_file\n",
    "\n",
    "    run_experiment_fine_tune(mobile_name, results_mobile_path, models_mobile_path, \n",
    "        train_generator, (experiment_name_file, experiment_name_title), model_file)\n",
    "\n",
    "    print(f'Finished experiment placing {num_to_place} objects')"
   ]
  },
  {
   "cell_type": "markdown",
   "metadata": {},
   "source": [
    "#### MobileNetv2 - Augmentation with overlap and equal proportions of labels"
   ]
  },
  {
   "cell_type": "code",
   "execution_count": null,
   "metadata": {},
   "outputs": [],
   "source": [
    "augmentation_mode = AugmentationMode.AugmentationOverlapSameProportion\n",
    "\n",
    "for fraction in [4, 3, 2]:\n",
    "\n",
    "    place_per_label, objects_per_label = sort_objects_to_balance(train_classes_counts, train_segmentations, fraction)\n",
    "\n",
    "    experiment_name_file = f'augmentation_overlap_proportions_{fraction}'\n",
    "    experiment_name_title = f'Augmentation - Overlap - Same class proportion 1/{fraction} of person'\n",
    "    model_file = experiment_name_file\n",
    "\n",
    "    histogram_path = os.path.join(results_path, f'{experiment_name_file}_{fraction}_fine_tune_class_histogram.png')\n",
    "\n",
    "    train_generator = TrainBalancedImageGenerator(batch_size, images_path, annotations_path, train_names, \n",
    "        image_size, place_per_label, objects_per_label, augmentation_mode, histogram_path, seed)\n",
    "\n",
    "    run_experiment_fine_tune(mobile_name, results_mobile_path, models_mobile_path, \n",
    "        train_generator, (experiment_name_file, experiment_name_title), model_file)\n",
    "\n",
    "    print(f'Finished experiment balancing up to 1/{fraction} of person objects')"
   ]
  },
  {
   "cell_type": "markdown",
   "metadata": {},
   "source": [
    "#### MobileNetv2 - Augmentation with overlap applying random transformations and keeping the same class proportion"
   ]
  },
  {
   "cell_type": "code",
   "execution_count": null,
   "metadata": {},
   "outputs": [],
   "source": [
    "augmentation_mode = AugmentationMode.AugmentationOverlapTransformSameProportion\n",
    "\n",
    "for fraction in [4, 3, 2]:\n",
    "\n",
    "    place_per_label, objects_per_label = sort_objects_to_balance(train_classes_counts, train_segmentations, fraction)\n",
    "\n",
    "    experiment_name_file = f'augmentation_overlap_transform_proportions_{fraction}'\n",
    "    experiment_name_title = f'Augmentation - Overlap - Random transformations - Same class proportion 1/{fraction} of person'\n",
    "    model_file = experiment_name_file\n",
    "\n",
    "    histogram_path = os.path.join(results_path, f'{experiment_name_file}_{fraction}_fine_tune_class_histogram.png')\n",
    "\n",
    "    train_generator = TrainBalancedImageGenerator(batch_size, images_path, annotations_path, train_names, \n",
    "        image_size, place_per_label, objects_per_label, augmentation_mode, histogram_path, seed)\n",
    "\n",
    "    run_experiment_fine_tune(mobile_name, results_mobile_path, models_mobile_path, \n",
    "        train_generator, (experiment_name_file, experiment_name_title), model_file)\n",
    "\n",
    "    print(f'Finished experiment balancing up to 1/{fraction} of person objects')"
   ]
  }
 ],
 "metadata": {
  "interpreter": {
   "hash": "533c2185332143a706e3d08f01470be76fb9f50f6b8ba0f3da304c526a5ee705"
  },
  "kernelspec": {
   "display_name": "Python 3.8.12 ('base')",
   "language": "python",
   "name": "python3"
  },
  "language_info": {
   "codemirror_mode": {
    "name": "ipython",
    "version": 3
   },
   "file_extension": ".py",
   "mimetype": "text/x-python",
   "name": "python",
   "nbconvert_exporter": "python",
   "pygments_lexer": "ipython3",
   "version": "3.8.12"
  },
  "orig_nbformat": 4
 },
 "nbformat": 4,
 "nbformat_minor": 2
}
