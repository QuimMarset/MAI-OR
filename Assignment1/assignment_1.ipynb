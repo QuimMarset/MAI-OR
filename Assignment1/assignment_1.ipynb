{
 "cells": [
  {
   "cell_type": "code",
   "execution_count": 1,
   "metadata": {},
   "outputs": [],
   "source": [
    "import tensorflow as tf\n",
    "import matplotlib.pyplot as plt\n",
    "import numpy as np\n",
    "import os\n",
    "\n",
    "from skimage.io import imread\n",
    "from skimage.transform import resize\n",
    "from skimage.util import img_as_int\n",
    "\n",
    "from keras.preprocessing.image import load_img"
   ]
  },
  {
   "cell_type": "code",
   "execution_count": 2,
   "metadata": {},
   "outputs": [],
   "source": [
    "from dataset import Dataset\n",
    "import os\n",
    "\n",
    "root_path = './'\n",
    "train_val_path = os.path.join(root_path, 'VOCtrainval_06-Nov-2007', 'VOCdevkit', 'VOC2007')\n",
    "test_path = os.path.join('VOCtest_06-Nov-2007', 'VOCdevkit', 'VOC2007')\n",
    "\n",
    "dataset = Dataset(train_val_path, test_path, 255)"
   ]
  },
  {
   "cell_type": "code",
   "execution_count": 3,
   "metadata": {},
   "outputs": [
    {
     "name": "stdout",
     "output_type": "stream",
     "text": [
      "Train length: 4110\n",
      "Validation length: 901\n",
      "Segmentation length: 422\n"
     ]
    }
   ],
   "source": [
    "train_data, val_data, segmentation_data = dataset.generate_train_val_split()\n",
    "\n",
    "print(f'Train length: {len(train_data)}')\n",
    "print(f'Validation length: {len(val_data)}')\n",
    "print(f'Segmentation length: {len(segmentation_data)}')"
   ]
  },
  {
   "cell_type": "code",
   "execution_count": 2,
   "metadata": {},
   "outputs": [
    {
     "name": "stdout",
     "output_type": "stream",
     "text": [
      "Test length: 4952\n"
     ]
    }
   ],
   "source": [
    "test_data = dataset.get_test_data()\n",
    "\n",
    "print(f'Test length: {len(test_data)}')"
   ]
  },
  {
   "cell_type": "code",
   "execution_count": 19,
   "metadata": {},
   "outputs": [],
   "source": [
    "image_data = train_data[0]\n",
    "image = image_data['image']\n",
    "name = image_data['name']\n",
    "boxes = image_data['boxes']\n",
    "\n",
    "segmentation = segmentation_data[0]\n",
    "seg_image = segmentation['segmentation']\n",
    "seg_boxes = segmentation['boxes']"
   ]
  },
  {
   "cell_type": "code",
   "execution_count": 9,
   "metadata": {},
   "outputs": [
    {
     "name": "stderr",
     "output_type": "stream",
     "text": [
      "Clipping input data to the valid range for imshow with RGB data ([0..1] for floats or [0..255] for integers).\n"
     ]
    },
    {
     "data": {
      "text/plain": [
       "<matplotlib.image.AxesImage at 0x2183bdb69a0>"
      ]
     },
     "execution_count": 9,
     "metadata": {},
     "output_type": "execute_result"
    },
    {
     "data": {
      "image/png": "[encoded data removed]",
      "text/plain": [
       "<Figure size 432x288 with 1 Axes>"
      ]
     },
     "metadata": {
      "needs_background": "light"
     },
     "output_type": "display_data"
    }
   ],
   "source": [
    "import matplotlib.pyplot as plt\n",
    "\n",
    "plt.imshow(seg_image)"
   ]
  },
  {
   "cell_type": "code",
   "execution_count": 13,
   "metadata": {},
   "outputs": [],
   "source": [
    "import numpy as np\n",
    "import cv2\n",
    "\n",
    "def _generate_mask_from_segmentation(segmentation_image):\n",
    "    print(segmentation_image.shape)\n",
    "    unique_values = np.unique(segmentation_image.flatten())\n",
    "    print(unique_values)\n",
    "    sorted_values = np.sort(unique_values)\n",
    "    sorted_values = sorted_values[1:]\n",
    "    print(sorted_values)\n",
    "    sorted_values[::-1].sort()\n",
    "    sorted_values = sorted_values[1:]\n",
    "    selected_value = np.random.choice(sorted_values)\n",
    "    print(selected_value)\n",
    "\n",
    "    segmentation_mask = (segmentation_image == selected_value).astype(np.float32)\n",
    "    return segmentation_mask"
   ]
  },
  {
   "cell_type": "code",
   "execution_count": 20,
   "metadata": {},
   "outputs": [],
   "source": [
    "seg_image = cv2.cvtColor(seg_image, cv2.COLOR_RGB2GRAY)\n",
    "seg_image = seg_image.astype(np.uint8)"
   ]
  },
  {
   "cell_type": "code",
   "execution_count": 22,
   "metadata": {},
   "outputs": [
    {
     "data": {
      "text/plain": [
       "<matplotlib.image.AxesImage at 0x2188b77fbb0>"
      ]
     },
     "execution_count": 22,
     "metadata": {},
     "output_type": "execute_result"
    },
    {
     "data": {
      "image/png": "[encoded data removed]",
      "text/plain": [
       "<Figure size 432x288 with 1 Axes>"
      ]
     },
     "metadata": {
      "needs_background": "light"
     },
     "output_type": "display_data"
    }
   ],
   "source": [
    "plt.imshow(seg_image, cmap='gray')"
   ]
  },
  {
   "cell_type": "code",
   "execution_count": 29,
   "metadata": {},
   "outputs": [],
   "source": []
  },
  {
   "cell_type": "code",
   "execution_count": null,
   "metadata": {},
   "outputs": [],
   "source": []
  }
 ],
 "metadata": {
  "interpreter": {
   "hash": "533c2185332143a706e3d08f01470be76fb9f50f6b8ba0f3da304c526a5ee705"
  },
  "kernelspec": {
   "display_name": "Python 3.8.12 ('base')",
   "language": "python",
   "name": "python3"
  },
  "language_info": {
   "codemirror_mode": {
    "name": "ipython",
    "version": 3
   },
   "file_extension": ".py",
   "mimetype": "text/x-python",
   "name": "python",
   "nbconvert_exporter": "python",
   "pygments_lexer": "ipython3",
   "version": "3.8.12"
  },
  "orig_nbformat": 4
 },
 "nbformat": 4,
 "nbformat_minor": 2
}
