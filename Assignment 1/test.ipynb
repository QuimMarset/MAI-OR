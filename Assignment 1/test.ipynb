{
 "cells": [
  {
   "cell_type": "code",
   "execution_count": 1,
   "metadata": {},
   "outputs": [],
   "source": [
    "from dataset import Dataset\n",
    "import os\n",
    "from train import Trainer"
   ]
  },
  {
   "cell_type": "code",
   "execution_count": 1,
   "metadata": {},
   "outputs": [],
   "source": [
    "root_path = './'\n",
    "train_val_path = os.path.join(root_path, 'VOCtrainval_06-Nov-2007', 'VOCdevkit', 'VOC2007')\n",
    "test_path = os.path.join('VOCtest_06-Nov-2007', 'VOCdevkit', 'VOC2007')\n",
    "\n",
    "image_size = 224\n",
    "num_classes = 20\n",
    "num_epochs = 5\n",
    "batch_size = 32\n",
    "\n",
    "dataset = Dataset(train_val_path, test_path, 224)\n",
    "\n",
    "train_data, val_data, segmentation_data = dataset.generate_train_val_split()\n",
    "\n",
    "print(f'Train length: {len(train_data)}')\n",
    "print(f'Validation length: {len(val_data)}')\n",
    "print(f'Segmentation length: {len(segmentation_data)}')\n",
    "\n",
    "trainer = Trainer(image_size, num_classes)"
   ]
  },
  {
   "cell_type": "code",
   "execution_count": null,
   "metadata": {},
   "outputs": [],
   "source": [
    "trainer.train(num_epochs, batch_size, )"
   ]
  }
 ],
 "metadata": {
  "interpreter": {
   "hash": "533c2185332143a706e3d08f01470be76fb9f50f6b8ba0f3da304c526a5ee705"
  },
  "kernelspec": {
   "display_name": "Python 3.8.12 ('base')",
   "language": "python",
   "name": "python3"
  },
  "language_info": {
   "codemirror_mode": {
    "name": "ipython",
    "version": 3
   },
   "file_extension": ".py",
   "mimetype": "text/x-python",
   "name": "python",
   "nbconvert_exporter": "python",
   "pygments_lexer": "ipython3",
   "version": "3.8.12"
  },
  "orig_nbformat": 4
 },
 "nbformat": 4,
 "nbformat_minor": 2
}
