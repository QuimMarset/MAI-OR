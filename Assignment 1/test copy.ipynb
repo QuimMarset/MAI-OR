{
 "cells": [
  {
   "cell_type": "code",
   "execution_count": null,
   "metadata": {},
   "outputs": [],
   "source": [
    "import tensorflow as tf\n",
    "import matplotlib.pyplot as plt\n",
    "import numpy as np\n",
    "import os\n",
    "\n",
    "from skimage.io import imread\n",
    "from skimage.transform import resize\n",
    "from skimage.util import img_as_int\n",
    "\n",
    "from keras.preprocessing.image import load_img"
   ]
  },
  {
   "cell_type": "markdown",
   "metadata": {},
   "source": [
    "Crop objectes i afegir-los random\n",
    "Per balancejar necessitarem + de 1 objecte per imatge\n",
    "Les bound boxes tenim els extrems top-left i bottom-right (però no ocupen tota la bb)\n",
    "Utilitzar IoU per mesurar overlapping dels objectes\n",
    "SMPLR dataaugmentation\n",
    "https://github.com/meysam-madadi/SMPLR/blob/master/Data/dataaugmentation.py\n",
    "\n"
   ]
  },
  {
   "cell_type": "code",
   "execution_count": 1,
   "metadata": {},
   "outputs": [],
   "source": [
    "from dataset import Dataset\n",
    "import os\n",
    "\n",
    "root_path = './'\n",
    "train_val_path = os.path.join(root_path, 'VOCtrainval_06-Nov-2007', 'VOCdevkit', 'VOC2007')\n",
    "test_path = os.path.join('VOCtest_06-Nov-2007', 'VOCdevkit', 'VOC2007')\n",
    "\n",
    "dataset = Dataset(train_val_path, test_path, 224)"
   ]
  },
  {
   "cell_type": "code",
   "execution_count": 2,
   "metadata": {},
   "outputs": [
    {
     "name": "stdout",
     "output_type": "stream",
     "text": [
      "Train length: 4110\n",
      "Validation length: 901\n",
      "Segmentation length: 422\n"
     ]
    }
   ],
   "source": [
    "train_data, val_data, segmentation_data = dataset.generate_train_val_split()\n",
    "\n",
    "print(f'Train length: {len(train_data)}')\n",
    "print(f'Validation length: {len(val_data)}')\n",
    "print(f'Segmentation length: {len(segmentation_data)}')"
   ]
  },
  {
   "cell_type": "code",
   "execution_count": null,
   "metadata": {},
   "outputs": [],
   "source": [
    "test_data = dataset.get_test_data()\n",
    "\n",
    "print(f'Test length: {len(test_data)}')"
   ]
  },
  {
   "cell_type": "code",
   "execution_count": null,
   "metadata": {},
   "outputs": [],
   "source": [
    "import cv2\n",
    "import numpy as np\n",
    "from skimage.io import imread\n",
    "from skimage.color import rgb2gray\n",
    "from skimage import img_as_ubyte, img_as_float"
   ]
  },
  {
   "cell_type": "code",
   "execution_count": null,
   "metadata": {},
   "outputs": [],
   "source": [
    "path = './VOCtrainval_06-Nov-2007/VOCdevkit/VOC2007/SegmentationObject/000032.png'\n",
    "\n",
    "seg_image = cv2.imread(path, cv2.IMREAD_GRAYSCALE)\n",
    "print(np.unique(seg_image))"
   ]
  },
  {
   "cell_type": "code",
   "execution_count": null,
   "metadata": {},
   "outputs": [],
   "source": [
    "plt.imshow(seg_image, cmap='gray')"
   ]
  },
  {
   "cell_type": "code",
   "execution_count": null,
   "metadata": {},
   "outputs": [],
   "source": [
    "def _generate_mask_from_segmentation(segmentation_image):\n",
    "    unique_values = np.unique(segmentation_image)\n",
    "    sorted_values = np.sort(unique_values)\n",
    "    print(sorted_values)\n",
    "    sorted_values = sorted_values[1:]\n",
    "    sorted_values[::-1].sort()\n",
    "    print(sorted_values)\n",
    "    sorted_values = sorted_values[1:]\n",
    "    print(sorted_values)\n",
    "    selected_value = np.random.choice(sorted_values)\n",
    "    print(selected_value)\n",
    "\n",
    "    segmentation_mask = (segmentation_image == selected_value).astype(np.float32)\n",
    "    segmentation_mask = cv2.resize(segmentation_mask, (224, 224))\n",
    "    return segmentation_mask\n"
   ]
  },
  {
   "cell_type": "code",
   "execution_count": null,
   "metadata": {},
   "outputs": [],
   "source": [
    "mask = _generate_mask_from_segmentation(seg_image)"
   ]
  },
  {
   "cell_type": "code",
   "execution_count": null,
   "metadata": {},
   "outputs": [],
   "source": [
    "print(np.max(seg_image))\n",
    "print(np.min(seg_image))\n",
    "\n",
    "print(np.max(mask))\n",
    "print(np.min(mask))"
   ]
  },
  {
   "cell_type": "code",
   "execution_count": null,
   "metadata": {},
   "outputs": [],
   "source": [
    "plt.imshow(mask, cmap='gray')"
   ]
  },
  {
   "cell_type": "code",
   "execution_count": null,
   "metadata": {},
   "outputs": [],
   "source": [
    "np.any(mask == 1.0)\n",
    "indices = np.where(mask == 1.0)\n",
    "print(min(indices[0]))\n",
    "print(min(indices[1]))\n",
    "print(max(indices[0]))\n",
    "print(max(indices[1]))"
   ]
  },
  {
   "cell_type": "code",
   "execution_count": null,
   "metadata": {},
   "outputs": [],
   "source": [
    "image_data = train_data[0]\n",
    "image = image_data['image']\n",
    "name = image_data['name']\n",
    "boxes = image_data['boxes']\n",
    "\n",
    "object_image = train_data[13]['image']"
   ]
  },
  {
   "cell_type": "code",
   "execution_count": null,
   "metadata": {},
   "outputs": [],
   "source": [
    "path_2 = './VOCtrainval_06-Nov-2007/VOCdevkit/VOC2007/JPEGImages/000005.jpg'\n",
    "\n",
    "image = cv2.imread(path_2)\n",
    "image = cv2.cvtColor(image, cv2.COLOR_BGR2RGB)\n",
    "image = img_as_float(cv2.resize(image, (224, 224)))"
   ]
  },
  {
   "cell_type": "code",
   "execution_count": null,
   "metadata": {},
   "outputs": [],
   "source": [
    "plt.imshow(image)"
   ]
  },
  {
   "cell_type": "code",
   "execution_count": null,
   "metadata": {},
   "outputs": [],
   "source": [
    "path_3 = './VOCtrainval_06-Nov-2007/VOCdevkit/VOC2007/JPEGImages/000032.jpg'\n",
    "\n",
    "object_image = cv2.imread(path_3)\n",
    "object_image = cv2.cvtColor(object_image, cv2.COLOR_BGR2RGB)\n",
    "object_image = img_as_float(cv2.resize(object_image, (224, 224)))\n",
    "\n",
    "print(object_image.shape)\n",
    "print(image.shape)"
   ]
  },
  {
   "cell_type": "code",
   "execution_count": null,
   "metadata": {},
   "outputs": [],
   "source": [
    "plt.imshow(object_image)"
   ]
  },
  {
   "cell_type": "code",
   "execution_count": null,
   "metadata": {},
   "outputs": [],
   "source": [
    "def _add_object_to_image(image, object_image, segmentation_image):\n",
    "    mask = _generate_mask_from_segmentation(segmentation_image)\n",
    "    mask = np.repeat(np.expand_dims(mask, axis=-1), 3, axis=-1)\n",
    "    image = image*(1 - mask) + object_image*mask\n",
    "    return image"
   ]
  },
  {
   "cell_type": "code",
   "execution_count": null,
   "metadata": {},
   "outputs": [],
   "source": [
    "mask_2 = np.repeat(np.expand_dims(mask, axis=-1), 3, axis=-1)\n",
    "print(mask_2.shape)"
   ]
  },
  {
   "cell_type": "code",
   "execution_count": null,
   "metadata": {},
   "outputs": [],
   "source": [
    "image_distort = _add_object_to_image(image, object_image, seg_image)\n",
    "\n",
    "plt.imshow(image_distort)"
   ]
  },
  {
   "cell_type": "code",
   "execution_count": null,
   "metadata": {},
   "outputs": [],
   "source": [
    "import os\n",
    "import cv2\n",
    "import numpy as np\n",
    "import matplotlib.pyplot as plt\n",
    "\n",
    "def _get_segmentation(dataset_path, image_name):\n",
    "    path = os.path.join(dataset_path, 'SegmentationObject', f'{image_name}.png')\n",
    "    segmentation = cv2.imread(path, cv2.IMREAD_GRAYSCALE)\n",
    "    return segmentation\n",
    "\n",
    "\n",
    "def _create_segmentation_masks(segmentation_image):\n",
    "    unique_values = np.unique(segmentation_image)\n",
    "    sorted_values = np.sort(unique_values)\n",
    "    # Remove pixels with value 0 (i.e. background)\n",
    "    sorted_values = sorted_values[1:]\n",
    "    sorted_values[::-1].sort()\n",
    "    # Remove pixels with value 220 (i.e. object border)\n",
    "    sorted_values = sorted_values[1:]\n",
    "    print(sorted_values)\n",
    "\n",
    "    masks = []\n",
    "    boxes = []\n",
    "\n",
    "    for value in sorted_values:\n",
    "        mask = (segmentation_image == value).astype(np.float32)\n",
    "        mask = cv2.resize(mask, (224, 224))\n",
    "        indices = np.where(mask == 1.0)\n",
    "        box = [min(indices[0]), min(indices[1]), max(indices[0]), max(indices[1])]\n",
    "        masks.append(mask)\n",
    "        boxes.append(box)\n",
    "\n",
    "    return masks, boxes"
   ]
  },
  {
   "cell_type": "code",
   "execution_count": null,
   "metadata": {},
   "outputs": [],
   "source": [
    "path = './VOCtrainval_06-Nov-2007/VOCdevkit/VOC2007'\n",
    "image_name = '000032'\n",
    "\n",
    "segmentation = _get_segmentation(path, image_name)"
   ]
  },
  {
   "cell_type": "code",
   "execution_count": null,
   "metadata": {},
   "outputs": [],
   "source": [
    "masks, boxes = _create_segmentation_masks(segmentation)"
   ]
  },
  {
   "cell_type": "code",
   "execution_count": null,
   "metadata": {},
   "outputs": [],
   "source": [
    "print(boxes)"
   ]
  },
  {
   "cell_type": "code",
   "execution_count": null,
   "metadata": {},
   "outputs": [],
   "source": [
    "plt.imshow(masks[2], cmap='gray')"
   ]
  },
  {
   "cell_type": "code",
   "execution_count": null,
   "metadata": {},
   "outputs": [],
   "source": []
  }
 ],
 "metadata": {
  "interpreter": {
   "hash": "533c2185332143a706e3d08f01470be76fb9f50f6b8ba0f3da304c526a5ee705"
  },
  "kernelspec": {
   "display_name": "Python 3.8.12 ('base')",
   "language": "python",
   "name": "python3"
  },
  "language_info": {
   "codemirror_mode": {
    "name": "ipython",
    "version": 3
   },
   "file_extension": ".py",
   "mimetype": "text/x-python",
   "name": "python",
   "nbconvert_exporter": "python",
   "pygments_lexer": "ipython3",
   "version": "3.8.12"
  },
  "orig_nbformat": 4
 },
 "nbformat": 4,
 "nbformat_minor": 2
}
