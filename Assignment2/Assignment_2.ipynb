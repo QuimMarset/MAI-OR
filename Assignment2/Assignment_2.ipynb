{
 "cells": [
  {
   "cell_type": "markdown",
   "metadata": {},
   "source": [
    "## Assignment 2 - Fashion Segmentation"
   ]
  },
  {
   "cell_type": "markdown",
   "metadata": {},
   "source": [
    "#### Author: Joaquim Marset Alsina"
   ]
  },
  {
   "cell_type": "markdown",
   "metadata": {},
   "source": [
    "### Imports"
   ]
  },
  {
   "cell_type": "code",
   "execution_count": null,
   "metadata": {},
   "outputs": [],
   "source": [
    "from train import train_model\n",
    "from inference import perform_inference\n",
    "import os\n",
    "import glob\n",
    "import numpy as np\n",
    "import matplotlib.pyplot as plt\n",
    "import matplotlib.image as mpimg\n",
    "from plot_utils import plot_metrics"
   ]
  },
  {
   "cell_type": "markdown",
   "metadata": {},
   "source": [
    "### Constants"
   ]
  },
  {
   "cell_type": "code",
   "execution_count": null,
   "metadata": {},
   "outputs": [],
   "source": [
    "root_path = './'\n",
    "\n",
    "config_path = os.path.join(root_path, 'config.py')\n",
    "\n",
    "results_path = os.path.join(root_path, 'results')\n",
    "train_results_path = os.path.join(results_path, 'train')\n",
    "\n",
    "test_results_path = os.path.join(results_path, 'test')\n",
    "test_predictions_path = os.path.join(test_results_path, 'predictions')\n",
    "\n",
    "data_path = os.path.join(root_path, 'fashionpedia')\n",
    "test_images_path = os.path.join(data_path, 'images', 'val')\n",
    "test_segmentations_path = os.path.join(data_path, 'segmentations', 'val')\n",
    "\n",
    "seed = 1412"
   ]
  },
  {
   "cell_type": "markdown",
   "metadata": {},
   "source": [
    "### Create required folders"
   ]
  },
  {
   "cell_type": "code",
   "execution_count": null,
   "metadata": {},
   "outputs": [],
   "source": [
    "if not os.path.exists(results_path):\n",
    "    os.makedirs(results_path, exist_ok=True)\n",
    "    os.makedirs(train_results_path, exist_ok=True)\n",
    "    os.makedirs(test_results_path, exist_ok=True)\n",
    "    os.makedirs(test_predictions_path, exist_ok=True)"
   ]
  },
  {
   "cell_type": "markdown",
   "metadata": {},
   "source": [
    "### Train"
   ]
  },
  {
   "cell_type": "code",
   "execution_count": null,
   "metadata": {},
   "outputs": [],
   "source": [
    "train_model(config_path, seed, train_results_path)"
   ]
  },
  {
   "cell_type": "markdown",
   "metadata": {},
   "source": [
    "### Perform Inference"
   ]
  },
  {
   "cell_type": "code",
   "execution_count": null,
   "metadata": {},
   "outputs": [],
   "source": [
    "checkpoint_path = os.path.join(train_results_path, 'latest.pth')\n",
    "\n",
    "perform_inference(config_path, test_results_path, test_predictions_path, test_images_path, \n",
    "    test_segmentations_path, checkpoint_path, plot_segmentations=False)"
   ]
  },
  {
   "cell_type": "markdown",
   "metadata": {},
   "source": [
    "### Plot training and validation statistics"
   ]
  },
  {
   "cell_type": "code",
   "execution_count": null,
   "metadata": {},
   "outputs": [],
   "source": [
    "log_files = glob.glob(os.path.join(train_results_path, '*.json'))\n",
    "log_path = log_files[-1]\n",
    "\n",
    "plot_metrics(log_path, results_path)"
   ]
  },
  {
   "cell_type": "markdown",
   "metadata": {},
   "source": [
    "### Display some results"
   ]
  },
  {
   "cell_type": "code",
   "execution_count": null,
   "metadata": {},
   "outputs": [],
   "source": [
    "predictions = os.listdir(test_predictions_path)\n",
    "num_test_images = len(predictions)\n",
    "\n",
    "if num_test_images > 0:\n",
    "\n",
    "    num_to_show = 10\n",
    "    indices = np.random.choice(num_test_images, num_to_show)\n",
    "\n",
    "    for index in indices:\n",
    "        path = os.path.join(test_predictions_path, predictions[index])\n",
    "        image = mpimg.imread(path)\n",
    "        plt.figure()\n",
    "        plt.imshow(image)"
   ]
  }
 ],
 "metadata": {
  "interpreter": {
   "hash": "ceb9a469327a6a0e77087a77286e23a27f0564ae72f7f60a1938b5fb55f7704d"
  },
  "kernelspec": {
   "display_name": "Python 3.8.13 ('pytorch')",
   "language": "python",
   "name": "python3"
  },
  "language_info": {
   "codemirror_mode": {
    "name": "ipython",
    "version": 3
   },
   "file_extension": ".py",
   "mimetype": "text/x-python",
   "name": "python",
   "nbconvert_exporter": "python",
   "pygments_lexer": "ipython3",
   "version": "3.8.13"
  },
  "orig_nbformat": 4
 },
 "nbformat": 4,
 "nbformat_minor": 2
}
